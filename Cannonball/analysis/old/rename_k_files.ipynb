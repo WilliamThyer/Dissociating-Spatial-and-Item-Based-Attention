{
 "cells": [
  {
   "cell_type": "code",
   "execution_count": 46,
   "metadata": {
    "ExecuteTime": {
     "end_time": "2020-04-14T16:17:41.263080Z",
     "start_time": "2020-04-14T16:17:38.475613Z"
    }
   },
   "outputs": [
    {
     "name": "stdout",
     "output_type": "stream",
     "text": [
      "The autoreload extension is already loaded. To reload it, use:\n",
      "  %reload_ext autoreload\n"
     ]
    }
   ],
   "source": [
    "import eeg_decoder\n",
    "import numpy as np\n",
    "from collections import OrderedDict\n",
    "import pandas as pd\n",
    "import matplotlib.pyplot as plt\n",
    "import shutil\n",
    "from pathlib import Path\n",
    "%load_ext autoreload\n",
    "%autoreload 2"
   ]
  },
  {
   "cell_type": "code",
   "execution_count": 47,
   "metadata": {
    "ExecuteTime": {
     "end_time": "2020-04-14T16:17:44.497436Z",
     "start_time": "2020-04-14T16:17:44.296538Z"
    }
   },
   "outputs": [],
   "source": [
    "experiment_name = 'C01'\n",
    "data_dir = f'./data/{experiment_name}'\n",
    "exp = eeg_decoder.Experiment(experiment_name,data_dir,dev=False,trim_timepoints=[-200,1000])"
   ]
  },
  {
   "cell_type": "code",
   "execution_count": 50,
   "metadata": {},
   "outputs": [],
   "source": [
    "from pathlib import Path\n",
    "\n",
    "k_files = sorted(list(Path(f'./data/C01/raw_k').glob('*.csv')))\n",
    "subix = [str(x.name)[4:6] for x in exp.xdata_files] \n",
    "subix_k = [str(k.name)[4:6] for k in k_files]\n",
    "# subMatch=[subix.index(str(sub)) for sub in subix_k]\n",
    "\n",
    "# exp.xdata_files = [exp.xdata_files[i] for i in subMatch]\n",
    "# exp.ydata_files = [exp.ydata_files[i] for i in subMatch]\n",
    "# exp.info_files =  [exp.info_files[i] for i in subMatch]\n",
    "# exp.nsub = len(exp.xdata_files)\n"
   ]
  },
  {
   "cell_type": "code",
   "execution_count": 56,
   "metadata": {},
   "outputs": [],
   "source": [
    "sub_nums = []\n",
    "k_files_good = []\n",
    "for i,k in enumerate(k_files):\n",
    "    df = pd.read_csv(k_files[i])\n",
    "    if len(df)>10:\n",
    "        k_files_good.append(k)\n",
    "        sub_nums.append(eval(df['response'].loc[2])['ID'])"
   ]
  },
  {
   "cell_type": "code",
   "execution_count": 57,
   "metadata": {},
   "outputs": [
    {
     "data": {
      "text/plain": [
       "{WindowsPath('data/C01/raw_k/Cannonball-vwm_PARTICIPANT_SESSION_2022-04-15_11h30.27.457.csv'): '04',\n",
       " WindowsPath('data/C01/raw_k/Cannonball-vwm_PARTICIPANT_SESSION_2022-04-15_12h17.12.725.csv'): '11',\n",
       " WindowsPath('data/C01/raw_k/Cannonball-vwm_PARTICIPANT_SESSION_2022-04-15_23h19.34.545.csv'): '02',\n",
       " WindowsPath('data/C01/raw_k/Cannonball-vwm_PARTICIPANT_SESSION_2022-04-16_17h17.14.676.csv'): '07',\n",
       " WindowsPath('data/C01/raw_k/Cannonball-vwm_PARTICIPANT_SESSION_2022-05-02_18h32.05.815.csv'): '01',\n",
       " WindowsPath('data/C01/raw_k/Cannonball-vwm_PARTICIPANT_SESSION_2022-05-03_15h43.28.671.csv'): '13',\n",
       " WindowsPath('data/C01/raw_k/Cannonball-vwm_PARTICIPANT_SESSION_2022-06-13_14h13.42.904.csv'): '124793',\n",
       " WindowsPath('data/C01/raw_k/Cannonball-vwm_PARTICIPANT_SESSION_2022-06-15_13h45.39.668.csv'): '124762',\n",
       " WindowsPath('data/C01/raw_k/Cannonball-vwm_PARTICIPANT_SESSION_2022-06-16_13h18.41.985.csv'): '124799',\n",
       " WindowsPath('data/C01/raw_k/Cannonball-vwm_PARTICIPANT_SESSION_2022-06-17_13h47.06.648.csv'): '124804',\n",
       " WindowsPath('data/C01/raw_k/Cannonball-vwm_PARTICIPANT_SESSION_2022-06-22_14h02.30.363.csv'): '124794',\n",
       " WindowsPath('data/C01/raw_k/Cannonball-vwm_PARTICIPANT_SESSION_2022-06-30_13h29.06.846.csv'): '124812',\n",
       " WindowsPath('data/C01/raw_k/Cannonball-vwm_PARTICIPANT_SESSION_2022-07-18_16h15.40.564.csv'): 'GR',\n",
       " WindowsPath('data/C01/raw_k/Cannonball-vwm_PARTICIPANT_SESSION_2022-07-18_18h33.57.266.csv'): 'DK',\n",
       " WindowsPath('data/C01/raw_k/Cannonball-vwm_PARTICIPANT_SESSION_2022-07-20_08h47.12.2.csv'): 'bisolamariam',\n",
       " WindowsPath('data/C01/raw_k/Cannonball-vwm_PARTICIPANT_SESSION_2022-07-20_11h29.18.929.csv'): 'MR',\n",
       " WindowsPath('data/C01/raw_k/Cannonball-vwm_PARTICIPANT_SESSION_2022-08-03_09h54.36.42.csv'): '12324963',\n",
       " WindowsPath('data/C01/raw_k/Cannonball-vwm_PARTICIPANT_SESSION_2022-09-29_15h25.23.217.csv'): '37',\n",
       " WindowsPath('data/C01/raw_k/Cannonball-vwm_PARTICIPANT_SESSION_2022-10-21_12h28.43.423.csv'): '39',\n",
       " WindowsPath('data/C01/raw_k/Cannonball-vwm_PARTICIPANT_SESSION_2022-11-01_11h34.50.637.csv'): '101',\n",
       " WindowsPath('data/C01/raw_k/Cannonball-vwm_PARTICIPANT_SESSION_2022-11-03_12h35.51.779.csv'): '102',\n",
       " WindowsPath('data/C01/raw_k/Cannonball-vwm_PARTICIPANT_SESSION_2022-11-07_12h05.28.312.csv'): '103',\n",
       " WindowsPath('data/C01/raw_k/Cannonball-vwm_PARTICIPANT_SESSION_2022-11-09_12h26.27.874.csv'): '124839',\n",
       " WindowsPath('data/C01/raw_k/Cannonball-vwm_PARTICIPANT_SESSION_2022-11-11_11h53.21.614.csv'): '124882',\n",
       " WindowsPath('data/C01/raw_k/Cannonball-vwm_PARTICIPANT_SESSION_2022-11-14_12h18.27.506.csv'): '105',\n",
       " WindowsPath('data/C01/raw_k/Cannonball-vwm_PARTICIPANT_SESSION_2022-11-17_12h20.00.183.csv'): '107',\n",
       " WindowsPath('data/C01/raw_k/Cannonball-vwm_PARTICIPANT_SESSION_2022-11-17_16h55.26.628.csv'): '108',\n",
       " WindowsPath('data/C01/raw_k/Cannonball-vwm_PARTICIPANT_SESSION_2023-01-16_12h40.42.645.csv'): '109',\n",
       " WindowsPath('data/C01/raw_k/Cannonball-vwm_PARTICIPANT_SESSION_2023-01-17_16h37.44.102.csv'): '110',\n",
       " WindowsPath('data/C01/raw_k/Cannonball-vwm_PARTICIPANT_SESSION_2023-01-19_12h25.26.376.csv'): '111',\n",
       " WindowsPath('data/C01/raw_k/Cannonball-vwm_PARTICIPANT_SESSION_2023-01-19_16h01.45.105.csv'): '112',\n",
       " WindowsPath('data/C01/raw_k/Cannonball-vwm_PARTICIPANT_SESSION_2023-01-20_11h25.12.25.csv'): '113',\n",
       " WindowsPath('data/C01/raw_k/Cannonball-vwm_PARTICIPANT_SESSION_2023-01-20_16h23.27.372.csv'): '114'}"
      ]
     },
     "execution_count": 57,
     "metadata": {},
     "output_type": "execute_result"
    }
   ],
   "source": [
    "dict(zip(k_files_good,sub_nums))"
   ]
  },
  {
   "cell_type": "code",
   "execution_count": 41,
   "metadata": {},
   "outputs": [
    {
     "data": {
      "text/plain": [
       "['04',\n",
       " '11',\n",
       " '02',\n",
       " '07',\n",
       " '01',\n",
       " '13',\n",
       " '999',\n",
       " '999',\n",
       " '124793',\n",
       " '124762',\n",
       " '124799',\n",
       " '124804',\n",
       " '124794',\n",
       " '124812',\n",
       " 'GR',\n",
       " 'DK',\n",
       " 'bisolamariam',\n",
       " 'MR',\n",
       " '12324963',\n",
       " '37',\n",
       " '39',\n",
       " '101',\n",
       " '102',\n",
       " '103',\n",
       " '124839',\n",
       " '124882',\n",
       " '105',\n",
       " '107',\n",
       " '108',\n",
       " '109',\n",
       " '110',\n",
       " '111',\n",
       " '112',\n",
       " '113',\n",
       " '114']"
      ]
     },
     "execution_count": 41,
     "metadata": {},
     "output_type": "execute_result"
    }
   ],
   "source": [
    "sub_nums"
   ]
  },
  {
   "cell_type": "code",
   "execution_count": null,
   "metadata": {},
   "outputs": [],
   "source": [
    "# function to calculate k\n",
    "\n",
    "def get_sub_k(filename):\n",
    "    # filename=f'./C01/C01_{sub}_k.csv'\n",
    "    beh=pd.read_csv(filename).to_dict('list')\n",
    "    resp=np.array(beh[\"key_press\"])[pd.notna(beh[\"key_press\"])]\n",
    "    chg=np.array(beh[\"change\"])[pd.notna(beh[\"change\"])]\n",
    "    hit=np.logical_and(resp=='n',chg==1)\n",
    "    fa=np.logical_and(resp=='n',chg==0)\n",
    "\n",
    "    k = 6 * (sum(hit)/sum(chg) - sum(fa)/sum(chg==0))\n",
    "    return k\n",
    "\n",
    "#wrapper function to get k values for subjects that have them\n"
   ]
  },
  {
   "cell_type": "code",
   "execution_count": null,
   "metadata": {},
   "outputs": [],
   "source": [
    "k = []\n",
    "for s in k_files:\n",
    "    k.append(get_sub_k(s))"
   ]
  }
 ],
 "metadata": {
  "kernelspec": {
   "display_name": "archery",
   "language": "python",
   "name": "python3"
  },
  "language_info": {
   "codemirror_mode": {
    "name": "ipython",
    "version": 3
   },
   "file_extension": ".py",
   "mimetype": "text/x-python",
   "name": "python",
   "nbconvert_exporter": "python",
   "pygments_lexer": "ipython3",
   "version": "3.8.10"
  },
  "orig_nbformat": 4,
  "vscode": {
   "interpreter": {
    "hash": "0e28d7a6dc7611bfdd14031ec946c3c682c571ce4ba623eb550681919e64ea96"
   }
  }
 },
 "nbformat": 4,
 "nbformat_minor": 2
}
