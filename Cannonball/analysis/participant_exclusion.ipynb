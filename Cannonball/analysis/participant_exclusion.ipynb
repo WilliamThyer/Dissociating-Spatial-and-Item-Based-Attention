{
 "cells": [
  {
   "cell_type": "code",
   "execution_count": 1,
   "id": "36ca012c-4f06-4b11-8293-020ac7172c86",
   "metadata": {},
   "outputs": [],
   "source": [
    "import sys\n",
    "sys.path.append('../..')\n",
    "\n",
    "import numpy as np\n",
    "import pandas as pd\n",
    "import eeg_decoder as eeg_decoder\n",
    "\n",
    "%load_ext autoreload\n",
    "%autoreload 2"
   ]
  },
  {
   "cell_type": "code",
   "execution_count": 2,
   "id": "b32a8db1-5a14-4bf6-9913-f4442ee33f56",
   "metadata": {},
   "outputs": [],
   "source": [
    "experiment_name = 'C01'\n",
    "data_dir = f'./data/{experiment_name}'\n",
    "exp = eeg_decoder.Experiment(experiment_name,data_dir,dev=False,info_from_file=True)\n",
    "exp.behavior_files = sorted(list(exp.data_dir.glob('*behavior.csv')))"
   ]
  },
  {
   "cell_type": "code",
   "execution_count": 3,
   "id": "d5c922cc",
   "metadata": {},
   "outputs": [
    {
     "data": {
      "text/plain": [
       "23"
      ]
     },
     "execution_count": 3,
     "metadata": {},
     "output_type": "execute_result"
    }
   ],
   "source": [
    "len(exp.xdata_files)"
   ]
  },
  {
   "cell_type": "code",
   "execution_count": 4,
   "id": "671f92bd-6a99-4a18-bf92-9eb366e0becd",
   "metadata": {
    "collapsed": true,
    "jupyter": {
     "outputs_hidden": true
    },
    "tags": []
   },
   "outputs": [
    {
     "name": "stdout",
     "output_type": "stream",
     "text": [
      "0\n",
      "1\n",
      "2\n",
      "3\n",
      "4\n",
      "5\n",
      "6\n",
      "7\n",
      "8\n",
      "9\n",
      "10\n",
      "11\n",
      "12\n",
      "13\n",
      "14\n",
      "15\n",
      "16\n",
      "17\n",
      "18\n",
      "19\n",
      "20\n",
      "21\n",
      "22\n"
     ]
    }
   ],
   "source": [
    "\n",
    "not_enough_data = []\n",
    "behavior_no_match = []\n",
    "\n",
    "for isub in range(exp.nsub):\n",
    "    print(isub)\n",
    "    xdata,ydata = exp.load_eeg(isub)\n",
    "\n",
    "    # Check enough data\n",
    "    _,cond_counts = np.unique(ydata,return_counts=True)\n",
    "    cond_counts = np.delete(cond_counts,3)\n",
    "    check_enough_data = np.all(cond_counts>150)\n",
    "\n",
    "    if check_enough_data == False:\n",
    "        not_enough_data.append(isub)\n",
    "\n",
    "    # Check data files align\n",
    "    noArt_idx = exp.load_artifact_idx(isub)\n",
    "    assert xdata.shape[0]==noArt_idx.sum()\n",
    "\n",
    "    behavior = pd.read_csv(exp.behavior_files[isub])\n",
    "    behavior = behavior[behavior.Block.notnull()] # cut out original post-task stuff\n",
    "    \n",
    "    if len(behavior)!=noArt_idx.shape[0]:\n",
    "        behavior_no_match.append(isub)\n"
   ]
  },
  {
   "cell_type": "code",
   "execution_count": 5,
   "id": "ab8cbf1e",
   "metadata": {},
   "outputs": [
    {
     "name": "stdout",
     "output_type": "stream",
     "text": [
      "[]\n",
      "[WindowsPath('data/C01/C01_11_xdata.mat')]\n"
     ]
    }
   ],
   "source": [
    "print(np.array(exp.xdata_files)[not_enough_data])\n",
    "print(np.array(exp.xdata_files)[behavior_no_match])"
   ]
  },
  {
   "cell_type": "code",
   "execution_count": 7,
   "id": "d3dd2d53",
   "metadata": {},
   "outputs": [
    {
     "data": {
      "text/plain": [
       "[WindowsPath('data/C01/C01_01_xdata.mat'),\n",
       " WindowsPath('data/C01/C01_02_xdata.mat'),\n",
       " WindowsPath('data/C01/C01_04_xdata.mat'),\n",
       " WindowsPath('data/C01/C01_05_xdata.mat'),\n",
       " WindowsPath('data/C01/C01_07_xdata.mat'),\n",
       " WindowsPath('data/C01/C01_09_xdata.mat'),\n",
       " WindowsPath('data/C01/C01_11_xdata.mat'),\n",
       " WindowsPath('data/C01/C01_13_xdata.mat'),\n",
       " WindowsPath('data/C01/C01_19_xdata.mat'),\n",
       " WindowsPath('data/C01/C01_20_xdata.mat'),\n",
       " WindowsPath('data/C01/C01_21_xdata.mat'),\n",
       " WindowsPath('data/C01/C01_22_xdata.mat'),\n",
       " WindowsPath('data/C01/C01_23_xdata.mat'),\n",
       " WindowsPath('data/C01/C01_25_xdata.mat'),\n",
       " WindowsPath('data/C01/C01_26_xdata.mat'),\n",
       " WindowsPath('data/C01/C01_27_xdata.mat'),\n",
       " WindowsPath('data/C01/C01_28_xdata.mat'),\n",
       " WindowsPath('data/C01/C01_31_xdata.mat'),\n",
       " WindowsPath('data/C01/C01_33_xdata.mat'),\n",
       " WindowsPath('data/C01/C01_34_xdata.mat'),\n",
       " WindowsPath('data/C01/C01_35_xdata.mat'),\n",
       " WindowsPath('data/C01/C01_36_xdata.mat'),\n",
       " WindowsPath('data/C01/C01_37_xdata.mat')]"
      ]
     },
     "execution_count": 7,
     "metadata": {},
     "output_type": "execute_result"
    }
   ],
   "source": [
    "exp.xdata_files"
   ]
  }
 ],
 "metadata": {
  "kernelspec": {
   "display_name": "Python 3.8.10 ('archery')",
   "language": "python",
   "name": "python3"
  },
  "language_info": {
   "codemirror_mode": {
    "name": "ipython",
    "version": 3
   },
   "file_extension": ".py",
   "mimetype": "text/x-python",
   "name": "python",
   "nbconvert_exporter": "python",
   "pygments_lexer": "ipython3",
   "version": "3.8.10"
  },
  "vscode": {
   "interpreter": {
    "hash": "0e28d7a6dc7611bfdd14031ec946c3c682c571ce4ba623eb550681919e64ea96"
   }
  }
 },
 "nbformat": 4,
 "nbformat_minor": 5
}
