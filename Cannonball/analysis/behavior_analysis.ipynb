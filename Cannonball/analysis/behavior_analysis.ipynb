{
 "cells": [
  {
   "cell_type": "code",
   "execution_count": 1,
   "metadata": {
    "ExecuteTime": {
     "end_time": "2020-05-10T16:53:34.147747Z",
     "start_time": "2020-05-10T16:53:31.818642Z"
    },
    "tags": []
   },
   "outputs": [
    {
     "name": "stderr",
     "output_type": "stream",
     "text": [
      "C:\\Users\\William\\AppData\\Roaming\\Python\\Python38\\site-packages\\outdated\\utils.py:14: OutdatedPackageWarning: The package pingouin is out of date. Your version is 0.5.0, the latest is 0.5.3.\n",
      "Set the environment variable OUTDATED_IGNORE=1 to disable these warnings.\n",
      "  return warn(\n",
      "C:\\Users\\William\\AppData\\Roaming\\Python\\Python38\\site-packages\\outdated\\utils.py:14: OutdatedPackageWarning: The package outdated is out of date. Your version is 0.2.1, the latest is 0.2.2.\n",
      "Set the environment variable OUTDATED_IGNORE=1 to disable these warnings.\n",
      "  return warn(\n"
     ]
    }
   ],
   "source": [
    "import sys\n",
    "sys.path.append('../..')\n",
    "\n",
    "import eeg_decoder\n",
    "import numpy as np\n",
    "import matplotlib.pyplot as plt\n",
    "import seaborn as sns\n",
    "from pathlib import Path\n",
    "import pandas as pd\n",
    "import scipy.stats as sista\n",
    "import statsmodels\n",
    "import statsmodels.api as sm\n",
    "from statsmodels.formula.api import ols\n",
    "import pingouin\n",
    "\n",
    "import matplotlib\n",
    "matplotlib.rcParams['font.sans-serif'] = \"Arial\"\n",
    "matplotlib.rcParams['font.family'] = \"sans-serif\"\n",
    "\n",
    "np.random.seed(42)\n",
    "%load_ext autoreload\n",
    "%autoreload 2"
   ]
  },
  {
   "cell_type": "code",
   "execution_count": 2,
   "metadata": {},
   "outputs": [],
   "source": [
    "output_dir = Path('./output')\n",
    "fig_dir = output_dir / 'figures' / 'behavior'\n",
    "\n",
    "behavior = None\n",
    "experiment_name = 'C01' \n",
    "data_dir = f'./data/{experiment_name}'\n",
    "exp = eeg_decoder.Experiment(experiment_name,data_dir,dev=False)\n",
    " "
   ]
  },
  {
   "cell_type": "code",
   "execution_count": 23,
   "metadata": {},
   "outputs": [
    {
     "data": {
      "text/plain": [
       "[WindowsPath('data/C01/C01_01_xdata.mat'),\n",
       " WindowsPath('data/C01/C01_02_xdata.mat'),\n",
       " WindowsPath('data/C01/C01_04_xdata.mat'),\n",
       " WindowsPath('data/C01/C01_05_xdata.mat'),\n",
       " WindowsPath('data/C01/C01_07_xdata.mat'),\n",
       " WindowsPath('data/C01/C01_09_xdata.mat'),\n",
       " WindowsPath('data/C01/C01_11_xdata.mat'),\n",
       " WindowsPath('data/C01/C01_13_xdata.mat'),\n",
       " WindowsPath('data/C01/C01_19_xdata.mat'),\n",
       " WindowsPath('data/C01/C01_20_xdata.mat'),\n",
       " WindowsPath('data/C01/C01_21_xdata.mat'),\n",
       " WindowsPath('data/C01/C01_22_xdata.mat'),\n",
       " WindowsPath('data/C01/C01_23_xdata.mat'),\n",
       " WindowsPath('data/C01/C01_25_xdata.mat'),\n",
       " WindowsPath('data/C01/C01_26_xdata.mat'),\n",
       " WindowsPath('data/C01/C01_27_xdata.mat'),\n",
       " WindowsPath('data/C01/C01_28_xdata.mat'),\n",
       " WindowsPath('data/C01/C01_31_xdata.mat'),\n",
       " WindowsPath('data/C01/C01_33_xdata.mat'),\n",
       " WindowsPath('data/C01/C01_34_xdata.mat'),\n",
       " WindowsPath('data/C01/C01_35_xdata.mat'),\n",
       " WindowsPath('data/C01/C01_36_xdata.mat'),\n",
       " WindowsPath('data/C01/C01_37_xdata.mat')]"
      ]
     },
     "execution_count": 23,
     "metadata": {},
     "output_type": "execute_result"
    }
   ],
   "source": [
    "exp.xdata_files"
   ]
  },
  {
   "cell_type": "code",
   "execution_count": 34,
   "metadata": {},
   "outputs": [
    {
     "data": {
      "text/html": [
       "<div>\n",
       "<style scoped>\n",
       "    .dataframe tbody tr th:only-of-type {\n",
       "        vertical-align: middle;\n",
       "    }\n",
       "\n",
       "    .dataframe tbody tr th {\n",
       "        vertical-align: top;\n",
       "    }\n",
       "\n",
       "    .dataframe thead th {\n",
       "        text-align: right;\n",
       "    }\n",
       "</style>\n",
       "<table border=\"1\" class=\"dataframe\">\n",
       "  <thead>\n",
       "    <tr style=\"text-align: right;\">\n",
       "      <th></th>\n",
       "      <th>Subject</th>\n",
       "      <th>BlockCondition</th>\n",
       "      <th>ACC</th>\n",
       "      <th>RT</th>\n",
       "    </tr>\n",
       "  </thead>\n",
       "  <tbody>\n",
       "    <tr>\n",
       "      <th>957</th>\n",
       "      <td>37</td>\n",
       "      <td>N1</td>\n",
       "      <td>1</td>\n",
       "      <td>556.233960</td>\n",
       "    </tr>\n",
       "    <tr>\n",
       "      <th>958</th>\n",
       "      <td>37</td>\n",
       "      <td>N1</td>\n",
       "      <td>1</td>\n",
       "      <td>560.199374</td>\n",
       "    </tr>\n",
       "    <tr>\n",
       "      <th>959</th>\n",
       "      <td>37</td>\n",
       "      <td>N1</td>\n",
       "      <td>1</td>\n",
       "      <td>593.038843</td>\n",
       "    </tr>\n",
       "    <tr>\n",
       "      <th>960</th>\n",
       "      <td>37</td>\n",
       "      <td>N1</td>\n",
       "      <td>1</td>\n",
       "      <td>497.935042</td>\n",
       "    </tr>\n",
       "    <tr>\n",
       "      <th>961</th>\n",
       "      <td>37</td>\n",
       "      <td>N1</td>\n",
       "      <td>1</td>\n",
       "      <td>388.717514</td>\n",
       "    </tr>\n",
       "  </tbody>\n",
       "</table>\n",
       "</div>"
      ],
      "text/plain": [
       "     Subject BlockCondition  ACC          RT\n",
       "957       37             N1    1  556.233960\n",
       "958       37             N1    1  560.199374\n",
       "959       37             N1    1  593.038843\n",
       "960       37             N1    1  497.935042\n",
       "961       37             N1    1  388.717514"
      ]
     },
     "execution_count": 34,
     "metadata": {},
     "output_type": "execute_result"
    }
   ],
   "source": [
    "   \n",
    "for isub in range(exp.nsub):\n",
    "    # Load subject's behavior data\n",
    "    if behavior is None:\n",
    "        behavior = pd.DataFrame(exp.load_behavior(isub))[['Subject','BlockCondition','ACC','RT']]\n",
    "    else:\n",
    "        try:\n",
    "            temp = pd.DataFrame(exp.load_behavior(isub))[['Subject','BlockCondition','ACC','RT']]\n",
    "        except:\n",
    "            pass\n",
    "        behavior = behavior.append(temp)\n",
    "behavior = behavior.query(\"BlockCondition!='L1F'\")\n",
    "behavior.tail()"
   ]
  },
  {
   "cell_type": "code",
   "execution_count": 53,
   "metadata": {},
   "outputs": [
    {
     "data": {
      "text/plain": [
       "array([0.96332694, 0.98718672, 0.98918665, 0.98695543])"
      ]
     },
     "execution_count": 53,
     "metadata": {},
     "output_type": "execute_result"
    }
   ],
   "source": [
    "total_means = behavior.groupby(['BlockCondition'])['ACC'].mean().reset_index()\n",
    "subject_means = behavior.groupby(['BlockCondition','Subject'])['ACC'].mean().reset_index()\n",
    "\n",
    "# subject_means['Block Feature'] = subject_means['BlockCondition'].map({0:'Color',1:'Orientation'})\n",
    "total_means = total_means.ACC.values\n",
    "total_means"
   ]
  },
  {
   "cell_type": "code",
   "execution_count": 36,
   "metadata": {},
   "outputs": [
    {
     "data": {
      "text/html": [
       "<div>\n",
       "<style scoped>\n",
       "    .dataframe tbody tr th:only-of-type {\n",
       "        vertical-align: middle;\n",
       "    }\n",
       "\n",
       "    .dataframe tbody tr th {\n",
       "        vertical-align: top;\n",
       "    }\n",
       "\n",
       "    .dataframe thead th {\n",
       "        text-align: right;\n",
       "    }\n",
       "</style>\n",
       "<table border=\"1\" class=\"dataframe\">\n",
       "  <thead>\n",
       "    <tr style=\"text-align: right;\">\n",
       "      <th></th>\n",
       "      <th></th>\n",
       "      <th>ACC</th>\n",
       "    </tr>\n",
       "    <tr>\n",
       "      <th>Subject</th>\n",
       "      <th>BlockCondition</th>\n",
       "      <th></th>\n",
       "    </tr>\n",
       "  </thead>\n",
       "  <tbody>\n",
       "    <tr>\n",
       "      <th rowspan=\"4\" valign=\"top\">1</th>\n",
       "      <th>2</th>\n",
       "      <td>1.000000</td>\n",
       "    </tr>\n",
       "    <tr>\n",
       "      <th>H1</th>\n",
       "      <td>1.000000</td>\n",
       "    </tr>\n",
       "    <tr>\n",
       "      <th>L1</th>\n",
       "      <td>1.000000</td>\n",
       "    </tr>\n",
       "    <tr>\n",
       "      <th>N1</th>\n",
       "      <td>1.000000</td>\n",
       "    </tr>\n",
       "    <tr>\n",
       "      <th>2</th>\n",
       "      <th>2</th>\n",
       "      <td>0.962406</td>\n",
       "    </tr>\n",
       "    <tr>\n",
       "      <th>...</th>\n",
       "      <th>...</th>\n",
       "      <td>...</td>\n",
       "    </tr>\n",
       "    <tr>\n",
       "      <th>36</th>\n",
       "      <th>N1</th>\n",
       "      <td>0.970874</td>\n",
       "    </tr>\n",
       "    <tr>\n",
       "      <th rowspan=\"4\" valign=\"top\">37</th>\n",
       "      <th>2</th>\n",
       "      <td>0.951613</td>\n",
       "    </tr>\n",
       "    <tr>\n",
       "      <th>H1</th>\n",
       "      <td>0.991770</td>\n",
       "    </tr>\n",
       "    <tr>\n",
       "      <th>L1</th>\n",
       "      <td>0.974684</td>\n",
       "    </tr>\n",
       "    <tr>\n",
       "      <th>N1</th>\n",
       "      <td>0.991453</td>\n",
       "    </tr>\n",
       "  </tbody>\n",
       "</table>\n",
       "<p>88 rows × 1 columns</p>\n",
       "</div>"
      ],
      "text/plain": [
       "                             ACC\n",
       "Subject BlockCondition          \n",
       "1       2               1.000000\n",
       "        H1              1.000000\n",
       "        L1              1.000000\n",
       "        N1              1.000000\n",
       "2       2               0.962406\n",
       "...                          ...\n",
       "36      N1              0.970874\n",
       "37      2               0.951613\n",
       "        H1              0.991770\n",
       "        L1              0.974684\n",
       "        N1              0.991453\n",
       "\n",
       "[88 rows x 1 columns]"
      ]
     },
     "execution_count": 36,
     "metadata": {},
     "output_type": "execute_result"
    }
   ],
   "source": [
    "subject_means.groupby(['Subject','BlockCondition']).mean()"
   ]
  },
  {
   "cell_type": "code",
   "execution_count": 55,
   "metadata": {},
   "outputs": [
    {
     "name": "stderr",
     "output_type": "stream",
     "text": [
      "No handles with labels found to put in legend.\n"
     ]
    },
    {
     "data": {
      "image/png": "[encoded data removed]",
      "text/plain": [
       "<Figure size 800x450 with 1 Axes>"
      ]
     },
     "metadata": {},
     "output_type": "display_data"
    }
   ],
   "source": [
    "fig, ax = plt.subplots(1, 1, sharey=True, figsize=(8,4.5))\n",
    "my_pal = {\"royalblue\", \"firebrick\", \"forestgreen\", \"orange\"}\n",
    "\n",
    "# experiment 1\n",
    "sns.violinplot(\n",
    "    ax = ax,\n",
    "    x = 'BlockCondition',\n",
    "    y = 'ACC',\n",
    "    data = subject_means,\n",
    "    dodge=True,\n",
    "    inner='points',\n",
    "    palette=my_pal,\n",
    "    order=[\"N1\",\"H1\",\"L1\",\"2\"],\n",
    "    cut=.3\n",
    ")\n",
    "\n",
    "# plot means\n",
    "ax.scatter(\n",
    "    x = [0,1,2,3],\n",
    "    y = [total_means[3],total_means[1],total_means[2],total_means[0]],\n",
    "    c = 'white', edgecolors='k',s=75)\n",
    "\n",
    "# asethetics\n",
    "ax.legend(fontsize=14)\n",
    "ax.spines['right'].set_visible(False)\n",
    "ax.spines['top'].set_visible(False)\n",
    "plt.setp(ax.get_xticklabels(), fontsize=14)\n",
    "plt.setp(ax.get_yticklabels(), fontsize=14)\n",
    "ax.set_xlabel('Block Condition',fontsize=14)\n",
    "ax.set_ylabel('Accuracy',fontsize=14)\n",
    "ax.set_title('Change detection accuracy',fontsize=16)\n",
    "plt.ylim([.76,1.02])\n",
    "# plt.savefig('output/figures/cd_accuracy.png',dpi=500,bbox_inches='tight')\n",
    "# plt.savefig('output/figures/cd_accuracy.pdf',dpi=500,bbox_inches='tight')\n",
    "\n",
    "plt.show()"
   ]
  },
  {
   "cell_type": "markdown",
   "metadata": {},
   "source": [
    "# Accuracy ANOVA within each experiment"
   ]
  },
  {
   "cell_type": "code",
   "execution_count": null,
   "metadata": {},
   "outputs": [],
   "source": [
    "subject_means = subject_means.rename({'Block Feature':'Feature'},axis=1)"
   ]
  },
  {
   "cell_type": "code",
   "execution_count": 27,
   "metadata": {},
   "outputs": [
    {
     "data": {
      "text/html": [
       "<div>\n",
       "<style scoped>\n",
       "    .dataframe tbody tr th:only-of-type {\n",
       "        vertical-align: middle;\n",
       "    }\n",
       "\n",
       "    .dataframe tbody tr th {\n",
       "        vertical-align: top;\n",
       "    }\n",
       "\n",
       "    .dataframe thead th {\n",
       "        text-align: right;\n",
       "    }\n",
       "</style>\n",
       "<table border=\"1\" class=\"dataframe\">\n",
       "  <thead>\n",
       "    <tr style=\"text-align: right;\">\n",
       "      <th></th>\n",
       "      <th>SetSize</th>\n",
       "      <th>Feature</th>\n",
       "      <th>Subject</th>\n",
       "      <th>ACC</th>\n",
       "    </tr>\n",
       "  </thead>\n",
       "  <tbody>\n",
       "    <tr>\n",
       "      <th>0</th>\n",
       "      <td>1</td>\n",
       "      <td>Color</td>\n",
       "      <td>5</td>\n",
       "      <td>0.974910</td>\n",
       "    </tr>\n",
       "    <tr>\n",
       "      <th>1</th>\n",
       "      <td>1</td>\n",
       "      <td>Color</td>\n",
       "      <td>7</td>\n",
       "      <td>0.967871</td>\n",
       "    </tr>\n",
       "    <tr>\n",
       "      <th>2</th>\n",
       "      <td>1</td>\n",
       "      <td>Color</td>\n",
       "      <td>8</td>\n",
       "      <td>1.000000</td>\n",
       "    </tr>\n",
       "    <tr>\n",
       "      <th>3</th>\n",
       "      <td>1</td>\n",
       "      <td>Color</td>\n",
       "      <td>11</td>\n",
       "      <td>0.992857</td>\n",
       "    </tr>\n",
       "    <tr>\n",
       "      <th>4</th>\n",
       "      <td>1</td>\n",
       "      <td>Color</td>\n",
       "      <td>12</td>\n",
       "      <td>0.978723</td>\n",
       "    </tr>\n",
       "  </tbody>\n",
       "</table>\n",
       "</div>"
      ],
      "text/plain": [
       "   SetSize Feature  Subject       ACC\n",
       "0        1   Color        5  0.974910\n",
       "1        1   Color        7  0.967871\n",
       "2        1   Color        8  1.000000\n",
       "3        1   Color       11  0.992857\n",
       "4        1   Color       12  0.978723"
      ]
     },
     "execution_count": 27,
     "metadata": {},
     "output_type": "execute_result"
    }
   ],
   "source": [
    "subject_means.head()"
   ]
  },
  {
   "cell_type": "code",
   "execution_count": 37,
   "metadata": {},
   "outputs": [
    {
     "data": {
      "text/html": [
       "<div>\n",
       "<style scoped>\n",
       "    .dataframe tbody tr th:only-of-type {\n",
       "        vertical-align: middle;\n",
       "    }\n",
       "\n",
       "    .dataframe tbody tr th {\n",
       "        vertical-align: top;\n",
       "    }\n",
       "\n",
       "    .dataframe thead th {\n",
       "        text-align: right;\n",
       "    }\n",
       "</style>\n",
       "<table border=\"1\" class=\"dataframe\">\n",
       "  <thead>\n",
       "    <tr style=\"text-align: right;\">\n",
       "      <th></th>\n",
       "      <th>df</th>\n",
       "      <th>sum_sq</th>\n",
       "      <th>mean_sq</th>\n",
       "      <th>F</th>\n",
       "      <th>PR(&gt;F)</th>\n",
       "    </tr>\n",
       "  </thead>\n",
       "  <tbody>\n",
       "    <tr>\n",
       "      <th>C(SetSize)</th>\n",
       "      <td>1.0</td>\n",
       "      <td>0.111190</td>\n",
       "      <td>0.111190</td>\n",
       "      <td>22.358376</td>\n",
       "      <td>0.000028</td>\n",
       "    </tr>\n",
       "    <tr>\n",
       "      <th>C(Feature)</th>\n",
       "      <td>1.0</td>\n",
       "      <td>0.036055</td>\n",
       "      <td>0.036055</td>\n",
       "      <td>7.249913</td>\n",
       "      <td>0.010306</td>\n",
       "    </tr>\n",
       "    <tr>\n",
       "      <th>C(SetSize):C(Feature)</th>\n",
       "      <td>1.0</td>\n",
       "      <td>0.016145</td>\n",
       "      <td>0.016145</td>\n",
       "      <td>3.246444</td>\n",
       "      <td>0.079119</td>\n",
       "    </tr>\n",
       "    <tr>\n",
       "      <th>Residual</th>\n",
       "      <td>40.0</td>\n",
       "      <td>0.198924</td>\n",
       "      <td>0.004973</td>\n",
       "      <td>NaN</td>\n",
       "      <td>NaN</td>\n",
       "    </tr>\n",
       "  </tbody>\n",
       "</table>\n",
       "</div>"
      ],
      "text/plain": [
       "                         df    sum_sq   mean_sq          F    PR(>F)\n",
       "C(SetSize)              1.0  0.111190  0.111190  22.358376  0.000028\n",
       "C(Feature)              1.0  0.036055  0.036055   7.249913  0.010306\n",
       "C(SetSize):C(Feature)   1.0  0.016145  0.016145   3.246444  0.079119\n",
       "Residual               40.0  0.198924  0.004973        NaN       NaN"
      ]
     },
     "execution_count": 37,
     "metadata": {},
     "output_type": "execute_result"
    }
   ],
   "source": [
    "model_exp1 = ols('ACC ~ C(SetSize) * C(Feature)', data=subject_means).fit();\n",
    "anova_table_exp1 = sm.stats.anova_lm(model_exp1, typ=1);\n",
    "anova_table_exp1"
   ]
  },
  {
   "cell_type": "code",
   "execution_count": 38,
   "metadata": {},
   "outputs": [
    {
     "name": "stdout",
     "output_type": "stream",
     "text": [
      "                    Anova\n",
      "=============================================\n",
      "                F Value Num DF  Den DF Pr > F\n",
      "---------------------------------------------\n",
      "Feature         27.5458 1.0000 10.0000 0.0004\n",
      "SetSize         17.7411 1.0000 10.0000 0.0018\n",
      "Feature:SetSize 13.4010 1.0000 10.0000 0.0044\n",
      "=============================================\n",
      "\n"
     ]
    }
   ],
   "source": [
    "from statsmodels.stats.anova import AnovaRM\n",
    "aovrm = AnovaRM(subject_means, 'ACC', 'Subject', within=['Feature','SetSize'],aggregate_func='mean')\n",
    "res = aovrm.fit()\n",
    "print(res)"
   ]
  },
  {
   "attachments": {},
   "cell_type": "markdown",
   "metadata": {},
   "source": [
    "# Timing\n",
    "unused below here"
   ]
  },
  {
   "cell_type": "code",
   "execution_count": 8,
   "metadata": {},
   "outputs": [
    {
     "ename": "KeyError",
     "evalue": "'Timestamp'",
     "output_type": "error",
     "traceback": [
      "\u001b[1;31m---------------------------------------------------------------------------\u001b[0m",
      "\u001b[1;31mKeyError\u001b[0m                                  Traceback (most recent call last)",
      "\u001b[1;32mc:\\Users\\William\\Anaconda3\\envs\\archery\\lib\\site-packages\\pandas\\core\\indexes\\base.py\u001b[0m in \u001b[0;36mget_loc\u001b[1;34m(self, key, method, tolerance)\u001b[0m\n\u001b[0;32m   3079\u001b[0m             \u001b[1;32mtry\u001b[0m\u001b[1;33m:\u001b[0m\u001b[1;33m\u001b[0m\u001b[1;33m\u001b[0m\u001b[0m\n\u001b[1;32m-> 3080\u001b[1;33m                 \u001b[1;32mreturn\u001b[0m \u001b[0mself\u001b[0m\u001b[1;33m.\u001b[0m\u001b[0m_engine\u001b[0m\u001b[1;33m.\u001b[0m\u001b[0mget_loc\u001b[0m\u001b[1;33m(\u001b[0m\u001b[0mcasted_key\u001b[0m\u001b[1;33m)\u001b[0m\u001b[1;33m\u001b[0m\u001b[1;33m\u001b[0m\u001b[0m\n\u001b[0m\u001b[0;32m   3081\u001b[0m             \u001b[1;32mexcept\u001b[0m \u001b[0mKeyError\u001b[0m \u001b[1;32mas\u001b[0m \u001b[0merr\u001b[0m\u001b[1;33m:\u001b[0m\u001b[1;33m\u001b[0m\u001b[1;33m\u001b[0m\u001b[0m\n",
      "\u001b[1;32mpandas\\_libs\\index.pyx\u001b[0m in \u001b[0;36mpandas._libs.index.IndexEngine.get_loc\u001b[1;34m()\u001b[0m\n",
      "\u001b[1;32mpandas\\_libs\\index.pyx\u001b[0m in \u001b[0;36mpandas._libs.index.IndexEngine.get_loc\u001b[1;34m()\u001b[0m\n",
      "\u001b[1;32mpandas\\_libs\\hashtable_class_helper.pxi\u001b[0m in \u001b[0;36mpandas._libs.hashtable.PyObjectHashTable.get_item\u001b[1;34m()\u001b[0m\n",
      "\u001b[1;32mpandas\\_libs\\hashtable_class_helper.pxi\u001b[0m in \u001b[0;36mpandas._libs.hashtable.PyObjectHashTable.get_item\u001b[1;34m()\u001b[0m\n",
      "\u001b[1;31mKeyError\u001b[0m: 'Timestamp'",
      "\nThe above exception was the direct cause of the following exception:\n",
      "\u001b[1;31mKeyError\u001b[0m                                  Traceback (most recent call last)",
      "\u001b[1;32m<ipython-input-8-2c28913e0cb0>\u001b[0m in \u001b[0;36m<module>\u001b[1;34m\u001b[0m\n\u001b[0;32m      4\u001b[0m \u001b[1;32mfor\u001b[0m \u001b[0misub\u001b[0m \u001b[1;32min\u001b[0m \u001b[0mnp\u001b[0m\u001b[1;33m.\u001b[0m\u001b[0munique\u001b[0m\u001b[1;33m(\u001b[0m\u001b[0mdf\u001b[0m\u001b[1;33m[\u001b[0m\u001b[1;34m'Subject'\u001b[0m\u001b[1;33m]\u001b[0m\u001b[1;33m)\u001b[0m\u001b[1;33m:\u001b[0m\u001b[1;33m\u001b[0m\u001b[1;33m\u001b[0m\u001b[0m\n\u001b[0;32m      5\u001b[0m     \u001b[0mdf_sub\u001b[0m \u001b[1;33m=\u001b[0m \u001b[0mdf\u001b[0m\u001b[1;33m.\u001b[0m\u001b[0mloc\u001b[0m\u001b[1;33m[\u001b[0m\u001b[0mdf\u001b[0m\u001b[1;33m.\u001b[0m\u001b[0mSubject\u001b[0m\u001b[1;33m==\u001b[0m\u001b[0misub\u001b[0m\u001b[1;33m]\u001b[0m\u001b[1;33m\u001b[0m\u001b[1;33m\u001b[0m\u001b[0m\n\u001b[1;32m----> 6\u001b[1;33m     \u001b[0mtimes\u001b[0m\u001b[1;33m.\u001b[0m\u001b[0mappend\u001b[0m\u001b[1;33m(\u001b[0m\u001b[1;33m(\u001b[0m\u001b[0mdf_sub\u001b[0m\u001b[1;33m.\u001b[0m\u001b[0miloc\u001b[0m\u001b[1;33m[\u001b[0m\u001b[1;33m-\u001b[0m\u001b[1;36m1\u001b[0m\u001b[1;33m]\u001b[0m\u001b[1;33m[\u001b[0m\u001b[1;34m'Timestamp'\u001b[0m\u001b[1;33m]\u001b[0m \u001b[1;33m-\u001b[0m \u001b[0mdf_sub\u001b[0m\u001b[1;33m.\u001b[0m\u001b[0miloc\u001b[0m\u001b[1;33m[\u001b[0m\u001b[1;36m0\u001b[0m\u001b[1;33m]\u001b[0m\u001b[1;33m[\u001b[0m\u001b[1;34m'Timestamp'\u001b[0m\u001b[1;33m]\u001b[0m\u001b[1;33m)\u001b[0m\u001b[1;33m/\u001b[0m\u001b[1;36m60\u001b[0m\u001b[1;33m)\u001b[0m\u001b[1;33m\u001b[0m\u001b[1;33m\u001b[0m\u001b[0m\n\u001b[0m\u001b[0;32m      7\u001b[0m     \u001b[0msubs\u001b[0m\u001b[1;33m.\u001b[0m\u001b[0mappend\u001b[0m\u001b[1;33m(\u001b[0m\u001b[0misub\u001b[0m\u001b[1;33m)\u001b[0m\u001b[1;33m\u001b[0m\u001b[1;33m\u001b[0m\u001b[0m\n",
      "\u001b[1;32mc:\\Users\\William\\Anaconda3\\envs\\archery\\lib\\site-packages\\pandas\\core\\series.py\u001b[0m in \u001b[0;36m__getitem__\u001b[1;34m(self, key)\u001b[0m\n\u001b[0;32m    851\u001b[0m \u001b[1;33m\u001b[0m\u001b[0m\n\u001b[0;32m    852\u001b[0m         \u001b[1;32melif\u001b[0m \u001b[0mkey_is_scalar\u001b[0m\u001b[1;33m:\u001b[0m\u001b[1;33m\u001b[0m\u001b[1;33m\u001b[0m\u001b[0m\n\u001b[1;32m--> 853\u001b[1;33m             \u001b[1;32mreturn\u001b[0m \u001b[0mself\u001b[0m\u001b[1;33m.\u001b[0m\u001b[0m_get_value\u001b[0m\u001b[1;33m(\u001b[0m\u001b[0mkey\u001b[0m\u001b[1;33m)\u001b[0m\u001b[1;33m\u001b[0m\u001b[1;33m\u001b[0m\u001b[0m\n\u001b[0m\u001b[0;32m    854\u001b[0m \u001b[1;33m\u001b[0m\u001b[0m\n\u001b[0;32m    855\u001b[0m         \u001b[1;32mif\u001b[0m \u001b[0mis_hashable\u001b[0m\u001b[1;33m(\u001b[0m\u001b[0mkey\u001b[0m\u001b[1;33m)\u001b[0m\u001b[1;33m:\u001b[0m\u001b[1;33m\u001b[0m\u001b[1;33m\u001b[0m\u001b[0m\n",
      "\u001b[1;32mc:\\Users\\William\\Anaconda3\\envs\\archery\\lib\\site-packages\\pandas\\core\\series.py\u001b[0m in \u001b[0;36m_get_value\u001b[1;34m(self, label, takeable)\u001b[0m\n\u001b[0;32m    959\u001b[0m \u001b[1;33m\u001b[0m\u001b[0m\n\u001b[0;32m    960\u001b[0m         \u001b[1;31m# Similar to Index.get_value, but we do not fall back to positional\u001b[0m\u001b[1;33m\u001b[0m\u001b[1;33m\u001b[0m\u001b[1;33m\u001b[0m\u001b[0m\n\u001b[1;32m--> 961\u001b[1;33m         \u001b[0mloc\u001b[0m \u001b[1;33m=\u001b[0m \u001b[0mself\u001b[0m\u001b[1;33m.\u001b[0m\u001b[0mindex\u001b[0m\u001b[1;33m.\u001b[0m\u001b[0mget_loc\u001b[0m\u001b[1;33m(\u001b[0m\u001b[0mlabel\u001b[0m\u001b[1;33m)\u001b[0m\u001b[1;33m\u001b[0m\u001b[1;33m\u001b[0m\u001b[0m\n\u001b[0m\u001b[0;32m    962\u001b[0m         \u001b[1;32mreturn\u001b[0m \u001b[0mself\u001b[0m\u001b[1;33m.\u001b[0m\u001b[0mindex\u001b[0m\u001b[1;33m.\u001b[0m\u001b[0m_get_values_for_loc\u001b[0m\u001b[1;33m(\u001b[0m\u001b[0mself\u001b[0m\u001b[1;33m,\u001b[0m \u001b[0mloc\u001b[0m\u001b[1;33m,\u001b[0m \u001b[0mlabel\u001b[0m\u001b[1;33m)\u001b[0m\u001b[1;33m\u001b[0m\u001b[1;33m\u001b[0m\u001b[0m\n\u001b[0;32m    963\u001b[0m \u001b[1;33m\u001b[0m\u001b[0m\n",
      "\u001b[1;32mc:\\Users\\William\\Anaconda3\\envs\\archery\\lib\\site-packages\\pandas\\core\\indexes\\base.py\u001b[0m in \u001b[0;36mget_loc\u001b[1;34m(self, key, method, tolerance)\u001b[0m\n\u001b[0;32m   3080\u001b[0m                 \u001b[1;32mreturn\u001b[0m \u001b[0mself\u001b[0m\u001b[1;33m.\u001b[0m\u001b[0m_engine\u001b[0m\u001b[1;33m.\u001b[0m\u001b[0mget_loc\u001b[0m\u001b[1;33m(\u001b[0m\u001b[0mcasted_key\u001b[0m\u001b[1;33m)\u001b[0m\u001b[1;33m\u001b[0m\u001b[1;33m\u001b[0m\u001b[0m\n\u001b[0;32m   3081\u001b[0m             \u001b[1;32mexcept\u001b[0m \u001b[0mKeyError\u001b[0m \u001b[1;32mas\u001b[0m \u001b[0merr\u001b[0m\u001b[1;33m:\u001b[0m\u001b[1;33m\u001b[0m\u001b[1;33m\u001b[0m\u001b[0m\n\u001b[1;32m-> 3082\u001b[1;33m                 \u001b[1;32mraise\u001b[0m \u001b[0mKeyError\u001b[0m\u001b[1;33m(\u001b[0m\u001b[0mkey\u001b[0m\u001b[1;33m)\u001b[0m \u001b[1;32mfrom\u001b[0m \u001b[0merr\u001b[0m\u001b[1;33m\u001b[0m\u001b[1;33m\u001b[0m\u001b[0m\n\u001b[0m\u001b[0;32m   3083\u001b[0m \u001b[1;33m\u001b[0m\u001b[0m\n\u001b[0;32m   3084\u001b[0m         \u001b[1;32mif\u001b[0m \u001b[0mtolerance\u001b[0m \u001b[1;32mis\u001b[0m \u001b[1;32mnot\u001b[0m \u001b[1;32mNone\u001b[0m\u001b[1;33m:\u001b[0m\u001b[1;33m\u001b[0m\u001b[1;33m\u001b[0m\u001b[0m\n",
      "\u001b[1;31mKeyError\u001b[0m: 'Timestamp'"
     ]
    }
   ],
   "source": [
    "times = []\n",
    "subs = []\n",
    "df = behavior\n",
    "for isub in np.unique(df['Subject']):\n",
    "    df_sub = df.loc[df.Subject==isub]\n",
    "    times.append((df_sub.iloc[-1]['Timestamp'] - df_sub.iloc[0]['Timestamp'])/60)\n",
    "    subs.append(isub)"
   ]
  },
  {
   "cell_type": "code",
   "execution_count": 11,
   "metadata": {},
   "outputs": [
    {
     "name": "stdout",
     "output_type": "stream",
     "text": [
      "105.07202380952383\n",
      "73.05\n",
      "132.45\n"
     ]
    }
   ],
   "source": [
    "print(np.mean(times))\n",
    "print(min(times))\n",
    "print(max(times))"
   ]
  },
  {
   "cell_type": "markdown",
   "metadata": {},
   "source": [
    "# K\n"
   ]
  },
  {
   "cell_type": "code",
   "execution_count": 12,
   "metadata": {},
   "outputs": [],
   "source": [
    "# Functions for calculating K from behavior\n",
    "def calc_outcome(row):\n",
    "    \"\"\"\n",
    "    calculate outcome of trial \n",
    "        hit: notice a change\n",
    "        miss: fail to notice a change\n",
    "        rej: notice there is no change\n",
    "        fa (false alarm): notice change when there isn't one\n",
    "    \"\"\"\n",
    "    accuracy = row['ACC']\n",
    "    change = row['TrialType']\n",
    "    if change == 1:\n",
    "        if accuracy == 1:\n",
    "            trial_outcome = 'hit'\n",
    "        else:\n",
    "            trial_outcome = 'miss'\n",
    "\n",
    "    if change == 0:\n",
    "        if accuracy == 1:\n",
    "            trial_outcome = 'rej'\n",
    "        else: \n",
    "            trial_outcome = 'fa'\n",
    "    return trial_outcome\n",
    "\n",
    "def _calc_k(outcome, change, ss):\n",
    "    \"\"\"\n",
    "    a simple function that returns K.\n",
    "    \"\"\"\n",
    "    \n",
    "    hits = sum(outcome == 'hit')\n",
    "    fa = sum(outcome == 'fa')\n",
    "\n",
    "    num_change = sum(change==1)\n",
    "    num_no_change = sum(change==0)\n",
    "\n",
    "    h = hits/num_change\n",
    "    f = fa/num_no_change\n",
    "    k = ss*(h-f)\n",
    "    return k\n",
    "\n",
    "def calc_k(beh,ss):\n",
    "    \"\"\"\n",
    "    Runs previous functions and returns subject K.\n",
    "    \"\"\"\n",
    "    beh = beh[beh['SetSize']==ss]\n",
    "    beh['outcome']=beh.apply(lambda row : calc_outcome(row), axis = 1)\n",
    "    k = _calc_k(beh['outcome'],beh['TrialType'],ss)\n",
    "    return k"
   ]
  },
  {
   "cell_type": "code",
   "execution_count": 13,
   "metadata": {},
   "outputs": [],
   "source": [
    "%%capture\n",
    "experiment_names = ['1801','1901','1902']\n",
    "k = []\n",
    "exps = []\n",
    "ss = []\n",
    "for iexp,experiment_name in enumerate(experiment_names):\n",
    "    \n",
    "    data_dir = f'./data/{experiment_name}'\n",
    "    exp = decode_eeg.Experiment(experiment_name,data_dir,test=False)\n",
    "    \n",
    "    for isub in range(exp.nsub):\n",
    "        # Load subject's behavior data\n",
    "        behavior = pd.DataFrame(exp.load_behavior(isub))\n",
    "        k.append(calc_k(behavior,1))\n",
    "        k.append(calc_k(behavior,2))\n",
    "        k.append(calc_k(behavior,3))\n",
    "        k.append(calc_k(behavior,4))\n",
    "    exps.append(np.repeat(iexp,exp.nsub*4))\n",
    "    ss.append(np.tile([1,2,3,4],exp.nsub))\n",
    "\n",
    "df = pd.DataFrame({'Experiment':np.concatenate(exps), 'Set size': np.concatenate(ss), 'K': k})"
   ]
  },
  {
   "cell_type": "code",
   "execution_count": 14,
   "metadata": {},
   "outputs": [
    {
     "data": {
      "text/plain": [
       "Experiment  Set size\n",
       "0           1           0.828734\n",
       "            2           1.549287\n",
       "            3           2.008723\n",
       "            4           2.096505\n",
       "1           1           0.929879\n",
       "            2           1.658631\n",
       "            3           1.985427\n",
       "            4           2.055157\n",
       "2           1           0.930983\n",
       "            2           1.610887\n",
       "            3           1.806604\n",
       "            4           1.766841\n",
       "Name: K, dtype: float64"
      ]
     },
     "execution_count": 14,
     "metadata": {},
     "output_type": "execute_result"
    }
   ],
   "source": [
    "total_means = df.groupby(['Experiment','Set size'])['K'].mean()\n",
    "total_means"
   ]
  },
  {
   "cell_type": "code",
   "execution_count": 15,
   "metadata": {},
   "outputs": [
    {
     "data": {
      "image/png": "[encoded data removed]",
      "text/plain": [
       "<Figure size 1200x500 with 3 Axes>"
      ]
     },
     "metadata": {},
     "output_type": "display_data"
    }
   ],
   "source": [
    "fig, axes = plt.subplots(1, 3, sharey=True, figsize=(12,5))\n",
    "# fig.suptitle('Change detection K',fontsize=18)\n",
    "my_pal = {\"royalblue\", \"firebrick\", \"forestgreen\", \"orange\"}\n",
    "\n",
    "# experiment 1\n",
    "sns.violinplot(\n",
    "    ax = axes[0], \n",
    "    x='Set size',y='K', \n",
    "    data=df[df['Experiment']==0],\n",
    "    dodge=True,inner='points',cut=.5,palette = my_pal,scale='width')\n",
    "\n",
    "axes[0].set_title('Experiment 1 (color)',fontsize=14)\n",
    "\n",
    "# experiment 2\n",
    "sns.violinplot(\n",
    "    ax = axes[1], \n",
    "    x='Set size',y='K', \n",
    "    data=df[df['Experiment']==1],\n",
    "    dodge=True,inner='points',cut=.5,palette = my_pal,scale='width') \n",
    "\n",
    "axes[1].set_title('Experiment 2 (orientation)',fontsize=14)\n",
    "\n",
    "# experiment 3\n",
    "sns.violinplot(\n",
    "    ax = axes[2], \n",
    "    x='Set size',y='K', \n",
    "    data=df[df['Experiment']==2],\n",
    "    dodge=True,inner='points',cut=.5,palette = my_pal,scale='width') \n",
    "\n",
    "axes[2].set_title('Experiment 3 (conjunction)',fontsize=14)\n",
    "\n",
    "for iax,ax in enumerate(axes):\n",
    "\n",
    "    # plot means\n",
    "    ax.scatter(\n",
    "        x = [0,1,2,3],\n",
    "        y = [total_means[iax][1],total_means[iax][2],total_means[iax][3],total_means[iax][4]],\n",
    "        c = 'white', edgecolors='k',s=75)\n",
    "\n",
    "    # asethetics\n",
    "    ax.spines['right'].set_visible(False)\n",
    "    ax.spines['top'].set_visible(False)\n",
    "    plt.setp(ax.get_xticklabels(), fontsize=14)\n",
    "    plt.setp(ax.get_yticklabels(), fontsize=14)\n",
    "    ax.set_xlabel('Set size',fontsize=14)\n",
    "    if iax == 0:\n",
    "        ax.set_ylabel('K',fontsize=14)\n",
    "    else:\n",
    "        ax.set_ylabel('')\n",
    "# plt.savefig('output/figures/cd_k.png',dpi=500,bbox_inches='tight')\n",
    "# plt.savefig('output/figures/cd_k.pdf',dpi=500,bbox_inches='tight')\n",
    "plt.show()"
   ]
  },
  {
   "cell_type": "markdown",
   "metadata": {},
   "source": [
    "# Single feature versus conjuncion, within-subject"
   ]
  },
  {
   "cell_type": "code",
   "execution_count": 17,
   "metadata": {
    "ExecuteTime": {
     "end_time": "2020-04-27T15:55:52.307884Z",
     "start_time": "2020-04-27T15:55:51.955223Z"
    }
   },
   "outputs": [],
   "source": [
    "# dummy paramets to setup wrangler for experiment syncer\n",
    "wrangl = eeg_decoder.Wrangler(exp1.info['times'],1,2,1,1,{})\n",
    "\n",
    "# syncer lets us only load subjects who completed all 3 experiments\n",
    "sync = decode_eeg.Experiment_Syncer(experiments=[exp1,exp2,exp3],\n",
    "                                    wrangler = wrangl,\n",
    "                                    train_group = [experiment_name1,experiment_name2])"
   ]
  },
  {
   "cell_type": "code",
   "execution_count": 18,
   "metadata": {},
   "outputs": [
    {
     "data": {
      "text/html": [
       "<div>\n",
       "<style scoped>\n",
       "    .dataframe tbody tr th:only-of-type {\n",
       "        vertical-align: middle;\n",
       "    }\n",
       "\n",
       "    .dataframe tbody tr th {\n",
       "        vertical-align: top;\n",
       "    }\n",
       "\n",
       "    .dataframe thead th {\n",
       "        text-align: right;\n",
       "    }\n",
       "</style>\n",
       "<table border=\"1\" class=\"dataframe\">\n",
       "  <thead>\n",
       "    <tr style=\"text-align: right;\">\n",
       "      <th></th>\n",
       "      <th>acc</th>\n",
       "      <th>exp</th>\n",
       "      <th>feat</th>\n",
       "      <th>setsize</th>\n",
       "      <th>subject</th>\n",
       "    </tr>\n",
       "  </thead>\n",
       "  <tbody>\n",
       "    <tr>\n",
       "      <th>0</th>\n",
       "      <td>0.916877</td>\n",
       "      <td>0</td>\n",
       "      <td>0</td>\n",
       "      <td>1</td>\n",
       "      <td>0</td>\n",
       "    </tr>\n",
       "    <tr>\n",
       "      <th>1</th>\n",
       "      <td>0.900744</td>\n",
       "      <td>0</td>\n",
       "      <td>0</td>\n",
       "      <td>2</td>\n",
       "      <td>0</td>\n",
       "    </tr>\n",
       "    <tr>\n",
       "      <th>2</th>\n",
       "      <td>0.863184</td>\n",
       "      <td>0</td>\n",
       "      <td>0</td>\n",
       "      <td>3</td>\n",
       "      <td>0</td>\n",
       "    </tr>\n",
       "    <tr>\n",
       "      <th>3</th>\n",
       "      <td>0.824121</td>\n",
       "      <td>0</td>\n",
       "      <td>0</td>\n",
       "      <td>4</td>\n",
       "      <td>0</td>\n",
       "    </tr>\n",
       "    <tr>\n",
       "      <th>4</th>\n",
       "      <td>0.988981</td>\n",
       "      <td>1</td>\n",
       "      <td>0</td>\n",
       "      <td>1</td>\n",
       "      <td>0</td>\n",
       "    </tr>\n",
       "    <tr>\n",
       "      <th>...</th>\n",
       "      <td>...</td>\n",
       "      <td>...</td>\n",
       "      <td>...</td>\n",
       "      <td>...</td>\n",
       "      <td>...</td>\n",
       "    </tr>\n",
       "    <tr>\n",
       "      <th>235</th>\n",
       "      <td>0.702065</td>\n",
       "      <td>1</td>\n",
       "      <td>0</td>\n",
       "      <td>4</td>\n",
       "      <td>19</td>\n",
       "    </tr>\n",
       "    <tr>\n",
       "      <th>236</th>\n",
       "      <td>0.966997</td>\n",
       "      <td>2</td>\n",
       "      <td>1</td>\n",
       "      <td>1</td>\n",
       "      <td>19</td>\n",
       "    </tr>\n",
       "    <tr>\n",
       "      <th>237</th>\n",
       "      <td>0.924342</td>\n",
       "      <td>2</td>\n",
       "      <td>1</td>\n",
       "      <td>2</td>\n",
       "      <td>19</td>\n",
       "    </tr>\n",
       "    <tr>\n",
       "      <th>238</th>\n",
       "      <td>0.804560</td>\n",
       "      <td>2</td>\n",
       "      <td>1</td>\n",
       "      <td>3</td>\n",
       "      <td>19</td>\n",
       "    </tr>\n",
       "    <tr>\n",
       "      <th>239</th>\n",
       "      <td>0.759857</td>\n",
       "      <td>2</td>\n",
       "      <td>1</td>\n",
       "      <td>4</td>\n",
       "      <td>19</td>\n",
       "    </tr>\n",
       "  </tbody>\n",
       "</table>\n",
       "<p>240 rows × 5 columns</p>\n",
       "</div>"
      ],
      "text/plain": [
       "          acc  exp  feat  setsize  subject\n",
       "0    0.916877    0     0        1        0\n",
       "1    0.900744    0     0        2        0\n",
       "2    0.863184    0     0        3        0\n",
       "3    0.824121    0     0        4        0\n",
       "4    0.988981    1     0        1        0\n",
       "..        ...  ...   ...      ...      ...\n",
       "235  0.702065    1     0        4       19\n",
       "236  0.966997    2     1        1       19\n",
       "237  0.924342    2     1        2       19\n",
       "238  0.804560    2     1        3       19\n",
       "239  0.759857    2     1        4       19\n",
       "\n",
       "[240 rows x 5 columns]"
      ]
     },
     "execution_count": 18,
     "metadata": {},
     "output_type": "execute_result"
    }
   ],
   "source": [
    "ss_acc = []\n",
    "exp_list = []\n",
    "ss_list = []\n",
    "sub_list = []\n",
    "for isub,sub in enumerate(sync.matched_ids):\n",
    "    beh = sync.load_behavior(sub)\n",
    "    for iexp,exp in enumerate(['1801','1901','1902']):\n",
    "        exp_beh = pd.DataFrame(beh[exp])\n",
    "        ss_acc.append(list(exp_beh.groupby('SetSize')['ACC'].mean()))\n",
    "        exp_list.append([iexp]*4)\n",
    "        ss_list.append([1,2,3,4])\n",
    "    sub_list.append([isub]*12)\n",
    "\n",
    "df = pd.DataFrame()\n",
    "df['acc'] = np.concatenate(ss_acc)\n",
    "df['exp'] = np.concatenate(exp_list)\n",
    "df['feat'] = (df['exp'] > 1).astype(int)\n",
    "df['setsize'] = np.concatenate(ss_list)\n",
    "df['subject'] = np.concatenate(sub_list)\n",
    "df"
   ]
  },
  {
   "cell_type": "code",
   "execution_count": 19,
   "metadata": {},
   "outputs": [
    {
     "name": "stdout",
     "output_type": "stream",
     "text": [
      "                   Anova\n",
      "===========================================\n",
      "             F Value  Num DF  Den DF Pr > F\n",
      "-------------------------------------------\n",
      "feat           4.0922 1.0000 19.0000 0.0574\n",
      "setsize      213.3000 3.0000 57.0000 0.0000\n",
      "feat:setsize  17.6864 3.0000 57.0000 0.0000\n",
      "===========================================\n",
      "\n"
     ]
    }
   ],
   "source": [
    "from statsmodels.stats.anova import AnovaRM\n",
    "aovrm = AnovaRM(df, 'acc', 'subject', within=['feat','setsize'],aggregate_func='mean')\n",
    "res = aovrm.fit()\n",
    "print(res)"
   ]
  },
  {
   "cell_type": "code",
   "execution_count": 20,
   "metadata": {},
   "outputs": [
    {
     "data": {
      "text/html": [
       "<div>\n",
       "<style scoped>\n",
       "    .dataframe tbody tr th:only-of-type {\n",
       "        vertical-align: middle;\n",
       "    }\n",
       "\n",
       "    .dataframe tbody tr th {\n",
       "        vertical-align: top;\n",
       "    }\n",
       "\n",
       "    .dataframe thead th {\n",
       "        text-align: right;\n",
       "    }\n",
       "</style>\n",
       "<table border=\"1\" class=\"dataframe\">\n",
       "  <thead>\n",
       "    <tr style=\"text-align: right;\">\n",
       "      <th></th>\n",
       "      <th>T</th>\n",
       "      <th>dof</th>\n",
       "      <th>alternative</th>\n",
       "      <th>p-val</th>\n",
       "      <th>CI95%</th>\n",
       "      <th>cohen-d</th>\n",
       "      <th>BF10</th>\n",
       "      <th>power</th>\n",
       "      <th>p-val_corrected</th>\n",
       "    </tr>\n",
       "  </thead>\n",
       "  <tbody>\n",
       "    <tr>\n",
       "      <th>T-test</th>\n",
       "      <td>-5.280954</td>\n",
       "      <td>19</td>\n",
       "      <td>two-sided</td>\n",
       "      <td>0.000043</td>\n",
       "      <td>[-0.04, -0.02]</td>\n",
       "      <td>0.955066</td>\n",
       "      <td>596.547</td>\n",
       "      <td>0.981548</td>\n",
       "      <td>0.000170</td>\n",
       "    </tr>\n",
       "    <tr>\n",
       "      <th>T-test</th>\n",
       "      <td>0.008389</td>\n",
       "      <td>19</td>\n",
       "      <td>two-sided</td>\n",
       "      <td>0.993394</td>\n",
       "      <td>[-0.02, 0.02]</td>\n",
       "      <td>0.001427</td>\n",
       "      <td>0.232</td>\n",
       "      <td>0.050004</td>\n",
       "      <td>0.993394</td>\n",
       "    </tr>\n",
       "    <tr>\n",
       "      <th>T-test</th>\n",
       "      <td>3.175354</td>\n",
       "      <td>19</td>\n",
       "      <td>two-sided</td>\n",
       "      <td>0.004982</td>\n",
       "      <td>[0.01, 0.06]</td>\n",
       "      <td>0.514358</td>\n",
       "      <td>9.201</td>\n",
       "      <td>0.588313</td>\n",
       "      <td>0.006642</td>\n",
       "    </tr>\n",
       "    <tr>\n",
       "      <th>T-test</th>\n",
       "      <td>3.809217</td>\n",
       "      <td>19</td>\n",
       "      <td>two-sided</td>\n",
       "      <td>0.001185</td>\n",
       "      <td>[0.02, 0.06]</td>\n",
       "      <td>0.553244</td>\n",
       "      <td>31.565</td>\n",
       "      <td>0.650948</td>\n",
       "      <td>0.002369</td>\n",
       "    </tr>\n",
       "  </tbody>\n",
       "</table>\n",
       "</div>"
      ],
      "text/plain": [
       "               T  dof alternative     p-val           CI95%   cohen-d  \\\n",
       "T-test -5.280954   19   two-sided  0.000043  [-0.04, -0.02]  0.955066   \n",
       "T-test  0.008389   19   two-sided  0.993394   [-0.02, 0.02]  0.001427   \n",
       "T-test  3.175354   19   two-sided  0.004982    [0.01, 0.06]  0.514358   \n",
       "T-test  3.809217   19   two-sided  0.001185    [0.02, 0.06]  0.553244   \n",
       "\n",
       "           BF10     power  p-val_corrected  \n",
       "T-test  596.547  0.981548         0.000170  \n",
       "T-test    0.232  0.050004         0.993394  \n",
       "T-test    9.201  0.588313         0.006642  \n",
       "T-test   31.565  0.650948         0.002369  "
      ]
     },
     "execution_count": 20,
     "metadata": {},
     "output_type": "execute_result"
    }
   ],
   "source": [
    "df_feat = df.groupby(['feat','setsize','subject']).mean().reset_index()\n",
    "tests_results = pd.DataFrame()\n",
    "for i,ss in enumerate(df_feat['setsize'].unique()):\n",
    "    \n",
    "    df_feat_ss = df_feat[df_feat['setsize']==ss]\n",
    "    \n",
    "    tests_results = tests_results.append(pingouin.ttest(\n",
    "        df_feat_ss[df_feat_ss['feat']==0]['acc'],\n",
    "        df_feat_ss[df_feat_ss['feat']==1]['acc'],\n",
    "        paired=True))\n",
    "\n",
    "_,tests_results['p-val_corrected'],_,_ = statsmodels.stats.multitest.multipletests(tests_results['p-val'],method='fdr_bh')\n",
    "tests_results"
   ]
  },
  {
   "cell_type": "code",
   "execution_count": 27,
   "metadata": {},
   "outputs": [
    {
     "name": "stdout",
     "output_type": "stream",
     "text": [
      "feat  setsize\n",
      "0     1          0.940021\n",
      "      2          0.902832\n",
      "      3          0.837850\n",
      "      4          0.764374\n",
      "1     1          0.965957\n",
      "      2          0.902765\n",
      "      3          0.800773\n",
      "      4          0.722885\n",
      "Name: acc, dtype: float64\n",
      "feat  setsize\n",
      "0     1          0.030076\n",
      "      2          0.043103\n",
      "      3          0.060578\n",
      "      4          0.075765\n",
      "1     1          0.023881\n",
      "      2          0.050946\n",
      "      3          0.081993\n",
      "      4          0.074211\n",
      "Name: acc, dtype: float64\n"
     ]
    }
   ],
   "source": [
    "print(df_feat.groupby(['feat','setsize']).mean()['acc'])\n",
    "print(df_feat.groupby(['feat','setsize']).std()['acc'])"
   ]
  },
  {
   "cell_type": "code",
   "execution_count": 21,
   "metadata": {},
   "outputs": [
    {
     "data": {
      "image/png": "[encoded data removed]",
      "text/plain": [
       "<Figure size 640x480 with 1 Axes>"
      ]
     },
     "metadata": {},
     "output_type": "display_data"
    }
   ],
   "source": [
    "ss_means = df.groupby(['feat','setsize','subject']).mean().reset_index()\n",
    "sns.violinplot(x='setsize',y='acc',hue='feat',data=ss_means,cut=0)\n",
    "plt.show()"
   ]
  }
 ],
 "metadata": {
  "kernelspec": {
   "display_name": "archery",
   "language": "python",
   "name": "python3"
  },
  "language_info": {
   "codemirror_mode": {
    "name": "ipython",
    "version": 3
   },
   "file_extension": ".py",
   "mimetype": "text/x-python",
   "name": "python",
   "nbconvert_exporter": "python",
   "pygments_lexer": "ipython3",
   "version": "3.8.10"
  },
  "varInspector": {
   "cols": {
    "lenName": 16,
    "lenType": 16,
    "lenVar": 40
   },
   "kernels_config": {
    "python": {
     "delete_cmd_postfix": "",
     "delete_cmd_prefix": "del ",
     "library": "var_list.py",
     "varRefreshCmd": "print(var_dic_list())"
    },
    "r": {
     "delete_cmd_postfix": ") ",
     "delete_cmd_prefix": "rm(",
     "library": "var_list.r",
     "varRefreshCmd": "cat(var_dic_list()) "
    }
   },
   "types_to_exclude": [
    "module",
    "function",
    "builtin_function_or_method",
    "instance",
    "_Feature"
   ],
   "window_display": false
  },
  "vscode": {
   "interpreter": {
    "hash": "0e28d7a6dc7611bfdd14031ec946c3c682c571ce4ba623eb550681919e64ea96"
   }
  }
 },
 "nbformat": 4,
 "nbformat_minor": 2
}
