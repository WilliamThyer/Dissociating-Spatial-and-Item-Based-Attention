{
 "cells": [
  {
   "cell_type": "code",
   "execution_count": 5,
   "metadata": {},
   "outputs": [],
   "source": [
    "import eeg_decoder \n",
    "import pandas as pd\n",
    "import numpy as np\n",
    "import scipy.io as io\n",
    "from pathlib import Path\n",
    "import shutil"
   ]
  },
  {
   "cell_type": "code",
   "execution_count": 6,
   "metadata": {},
   "outputs": [
    {
     "data": {
      "text/plain": [
       "[WindowsPath('data/d01/04'),\n",
       " WindowsPath('data/d01/06'),\n",
       " WindowsPath('data/d01/07'),\n",
       " WindowsPath('data/d01/08'),\n",
       " WindowsPath('data/d01/09'),\n",
       " WindowsPath('data/d01/10'),\n",
       " WindowsPath('data/d01/11'),\n",
       " WindowsPath('data/d01/12'),\n",
       " WindowsPath('data/d01/13'),\n",
       " WindowsPath('data/d01/14'),\n",
       " WindowsPath('data/d01/16'),\n",
       " WindowsPath('data/d01/17'),\n",
       " WindowsPath('data/d01/19'),\n",
       " WindowsPath('data/d01/20'),\n",
       " WindowsPath('data/d01/21'),\n",
       " WindowsPath('data/d01/22'),\n",
       " WindowsPath('data/d01/23'),\n",
       " WindowsPath('data/d01/24'),\n",
       " WindowsPath('data/d01/25'),\n",
       " WindowsPath('data/d01/26')]"
      ]
     },
     "execution_count": 6,
     "metadata": {},
     "output_type": "execute_result"
    }
   ],
   "source": [
    "experiment_name = 'd01'\n",
    "data_dir = f'./data/{experiment_name}'\n",
    "exp = eeg_decoder.Experiment(experiment_name, data_dir, dev=False,info_from_file=False)\n",
    "sub_folders = [f for f in Path(exp.data_dir).iterdir() if f.is_dir()][:-2]\n",
    "sub_folders"
   ]
  },
  {
   "cell_type": "code",
   "execution_count": 13,
   "metadata": {},
   "outputs": [],
   "source": [
    "for isub, sub_folder in enumerate(sub_folders):\n",
    "\n",
    "    exp.xdata_files = list(sub_folder.rglob('*xdata.mat'))\n",
    "    exp.ydata_files = list(sub_folder.rglob('*ydata.mat'))\n",
    "    exp.behavior_files = list(sub_folder.rglob('*behavior.csv'))\n",
    "    exp.artifact_idx_files = list(sub_folder.rglob('*artifact_idx.mat'))        \n",
    "\n",
    "    # load and concatenate data from behavior, eeg, and trial labels\n",
    "    for irun in range(len(exp.xdata_files)): \n",
    "        x1, y1 = exp.load_eeg(irun)\n",
    "        idx1 = exp.load_artifact_idx(irun)\n",
    "        beh1 = exp.load_behavior(irun, remove_artifact_trials=False)\n",
    "\n",
    "        if irun == 0:\n",
    "            x = x1 \n",
    "            y = y1\n",
    "            idx = idx1\n",
    "            beh = pd.DataFrame(beh1)\n",
    "            # sub_num = beh.loc[0,'Subject']\n",
    "            sub_num = exp.xdata_files[0].stem[4:6]\n",
    "        else:\n",
    "            x = np.concatenate((x, x1), 0)\n",
    "            y = np.concatenate((y, y1), 0)\n",
    "            idx = np.concatenate((idx, idx1), 0)\n",
    "            beh1_df = pd.DataFrame(beh1)\n",
    "            beh = pd.concat((beh, beh1_df))\n",
    "\n",
    "    x = np.moveaxis(x, 0, 2) # roll bc saving with savemat changes shape for some reason...\n",
    "\n",
    "    # save\n",
    "    io.savemat(f'data/d01/d01_{sub_num}_xdata.mat',{'xdata':x})\n",
    "    io.savemat(f'data/d01/d01_{sub_num}_ydata.mat',{'ydata':y})\n",
    "    io.savemat(f'data/d01/d01_{sub_num}_artifact_idx.mat',{'artifact_idx':idx})\n",
    "    beh.to_csv(f'data/d01/d01_{sub_num}_behavior.csv')\n",
    "    shutil.copy(f'data/d01/{sub_num}/d01_{sub_num}_1_info.mat',f'data/d01/d01_{sub_num}_info.mat')"
   ]
  },
  {
   "cell_type": "code",
   "execution_count": null,
   "metadata": {},
   "outputs": [],
   "source": [
    "for isub, sub_folder in enumerate(sub_folders):\n",
    "    sub_num = sub_folder.name\n",
    "    shutil.copy(f'data/d01/{sub_num}/d01_{sub_num}_1_info.mat',f'data/d01/d01_{sub_num}_info.mat')"
   ]
  }
 ],
 "metadata": {
  "kernelspec": {
   "display_name": "Python 3.8.10 ('archery')",
   "language": "python",
   "name": "python3"
  },
  "language_info": {
   "codemirror_mode": {
    "name": "ipython",
    "version": 3
   },
   "file_extension": ".py",
   "mimetype": "text/x-python",
   "name": "python",
   "nbconvert_exporter": "python",
   "pygments_lexer": "ipython3",
   "version": "3.8.10"
  },
  "orig_nbformat": 4,
  "vscode": {
   "interpreter": {
    "hash": "0e28d7a6dc7611bfdd14031ec946c3c682c571ce4ba623eb550681919e64ea96"
   }
  }
 },
 "nbformat": 4,
 "nbformat_minor": 2
}
