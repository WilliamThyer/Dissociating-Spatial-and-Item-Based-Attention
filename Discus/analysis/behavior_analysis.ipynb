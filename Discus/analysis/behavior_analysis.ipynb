{
 "cells": [
  {
   "cell_type": "code",
   "execution_count": 1,
   "metadata": {
    "ExecuteTime": {
     "end_time": "2020-05-10T16:53:34.147747Z",
     "start_time": "2020-05-10T16:53:31.818642Z"
    },
    "tags": []
   },
   "outputs": [
    {
     "name": "stderr",
     "output_type": "stream",
     "text": [
      "C:\\Users\\William\\AppData\\Roaming\\Python\\Python38\\site-packages\\outdated\\utils.py:14: OutdatedPackageWarning: The package outdated is out of date. Your version is 0.2.1, the latest is 0.2.2.\n",
      "Set the environment variable OUTDATED_IGNORE=1 to disable these warnings.\n",
      "  return warn(\n",
      "C:\\Users\\William\\AppData\\Roaming\\Python\\Python38\\site-packages\\outdated\\utils.py:14: OutdatedPackageWarning: The package pingouin is out of date. Your version is 0.5.0, the latest is 0.5.3.\n",
      "Set the environment variable OUTDATED_IGNORE=1 to disable these warnings.\n",
      "  return warn(\n"
     ]
    }
   ],
   "source": [
    "import sys\n",
    "sys.path.append('../..')\n",
    "\n",
    "import eeg_decoder \n",
    "import numpy as np\n",
    "import matplotlib.pyplot as plt\n",
    "import seaborn as sns\n",
    "from pathlib import Path\n",
    "import pandas as pd\n",
    "import scipy.stats as sista\n",
    "import statsmodels\n",
    "import statsmodels.api as sm\n",
    "from statsmodels.formula.api import ols\n",
    "import pingouin\n",
    "\n",
    "import matplotlib\n",
    "matplotlib.rcParams['font.sans-serif'] = \"Arial\"\n",
    "matplotlib.rcParams['font.family'] = \"sans-serif\"\n",
    "\n",
    "np.random.seed(42)\n",
    "%load_ext autoreload\n",
    "%autoreload 2"
   ]
  },
  {
   "cell_type": "code",
   "execution_count": 2,
   "metadata": {},
   "outputs": [],
   "source": [
    "experiment_name = 'd01' \n",
    "data_dir = f'./data/{experiment_name}'\n",
    "exp = eeg_decoder.Experiment(experiment_name,data_dir,dev=False)"
   ]
  },
  {
   "cell_type": "code",
   "execution_count": 3,
   "metadata": {},
   "outputs": [
    {
     "data": {
      "text/html": [
       "<div>\n",
       "<style scoped>\n",
       "    .dataframe tbody tr th:only-of-type {\n",
       "        vertical-align: middle;\n",
       "    }\n",
       "\n",
       "    .dataframe tbody tr th {\n",
       "        vertical-align: top;\n",
       "    }\n",
       "\n",
       "    .dataframe thead th {\n",
       "        text-align: right;\n",
       "    }\n",
       "</style>\n",
       "<table border=\"1\" class=\"dataframe\">\n",
       "  <thead>\n",
       "    <tr style=\"text-align: right;\">\n",
       "      <th></th>\n",
       "      <th>Subject</th>\n",
       "      <th>Condition</th>\n",
       "      <th>Error</th>\n",
       "      <th>RT</th>\n",
       "    </tr>\n",
       "  </thead>\n",
       "  <tbody>\n",
       "    <tr>\n",
       "      <th>1044</th>\n",
       "      <td>30</td>\n",
       "      <td>ss1_sim</td>\n",
       "      <td>-9</td>\n",
       "      <td>3.211873</td>\n",
       "    </tr>\n",
       "    <tr>\n",
       "      <th>1045</th>\n",
       "      <td>30</td>\n",
       "      <td>ss1_sim</td>\n",
       "      <td>-17</td>\n",
       "      <td>2.253225</td>\n",
       "    </tr>\n",
       "    <tr>\n",
       "      <th>1046</th>\n",
       "      <td>30</td>\n",
       "      <td>ss1_sim</td>\n",
       "      <td>1</td>\n",
       "      <td>3.128438</td>\n",
       "    </tr>\n",
       "    <tr>\n",
       "      <th>1047</th>\n",
       "      <td>30</td>\n",
       "      <td>ss1_sim</td>\n",
       "      <td>8</td>\n",
       "      <td>2.836036</td>\n",
       "    </tr>\n",
       "    <tr>\n",
       "      <th>1048</th>\n",
       "      <td>30</td>\n",
       "      <td>ss1_sim</td>\n",
       "      <td>-1</td>\n",
       "      <td>2.420478</td>\n",
       "    </tr>\n",
       "  </tbody>\n",
       "</table>\n",
       "</div>"
      ],
      "text/plain": [
       "      Subject Condition  Error        RT\n",
       "1044       30   ss1_sim     -9  3.211873\n",
       "1045       30   ss1_sim    -17  2.253225\n",
       "1046       30   ss1_sim      1  3.128438\n",
       "1047       30   ss1_sim      8  2.836036\n",
       "1048       30   ss1_sim     -1  2.420478"
      ]
     },
     "execution_count": 3,
     "metadata": {},
     "output_type": "execute_result"
    }
   ],
   "source": [
    "output_dir = Path('./output')\n",
    "fig_dir = output_dir / 'figures' / 'behavior'\n",
    "\n",
    "behavior = None\n",
    "experiment_name = 'd01' \n",
    "data_dir = f'./data/{experiment_name}'\n",
    "exp = eeg_decoder.Experiment(experiment_name,data_dir,dev=False)\n",
    "    \n",
    "for isub in range(exp.nsub):\n",
    "    # Load subject's behavior data\n",
    "    if behavior is None:\n",
    "        behavior = pd.DataFrame(exp.load_behavior(isub))[['Subject','Condition','Error','RT']]\n",
    "    else:\n",
    "        temp = pd.DataFrame(exp.load_behavior(isub))[['Subject','Condition','Error','RT']]\n",
    "        behavior = behavior.append(temp)\n",
    "\n",
    "behavior.tail()"
   ]
  },
  {
   "cell_type": "code",
   "execution_count": 4,
   "metadata": {},
   "outputs": [],
   "source": [
    "behavior['AbsError'] = abs(behavior.Error)"
   ]
  },
  {
   "cell_type": "code",
   "execution_count": 5,
   "metadata": {},
   "outputs": [
    {
     "data": {
      "text/html": [
       "<div>\n",
       "<style scoped>\n",
       "    .dataframe tbody tr th:only-of-type {\n",
       "        vertical-align: middle;\n",
       "    }\n",
       "\n",
       "    .dataframe tbody tr th {\n",
       "        vertical-align: top;\n",
       "    }\n",
       "\n",
       "    .dataframe thead th {\n",
       "        text-align: right;\n",
       "    }\n",
       "</style>\n",
       "<table border=\"1\" class=\"dataframe\">\n",
       "  <thead>\n",
       "    <tr style=\"text-align: right;\">\n",
       "      <th></th>\n",
       "      <th>mean</th>\n",
       "      <th>std</th>\n",
       "    </tr>\n",
       "    <tr>\n",
       "      <th>Condition</th>\n",
       "      <th></th>\n",
       "      <th></th>\n",
       "    </tr>\n",
       "  </thead>\n",
       "  <tbody>\n",
       "    <tr>\n",
       "      <th>ss1_dis</th>\n",
       "      <td>14.784524</td>\n",
       "      <td>15.264233</td>\n",
       "    </tr>\n",
       "    <tr>\n",
       "      <th>ss1_sim</th>\n",
       "      <td>14.964255</td>\n",
       "      <td>15.100586</td>\n",
       "    </tr>\n",
       "    <tr>\n",
       "      <th>ss1_vdis</th>\n",
       "      <td>14.279689</td>\n",
       "      <td>13.006317</td>\n",
       "    </tr>\n",
       "    <tr>\n",
       "      <th>ss2</th>\n",
       "      <td>19.971355</td>\n",
       "      <td>24.674704</td>\n",
       "    </tr>\n",
       "  </tbody>\n",
       "</table>\n",
       "</div>"
      ],
      "text/plain": [
       "                mean        std\n",
       "Condition                      \n",
       "ss1_dis    14.784524  15.264233\n",
       "ss1_sim    14.964255  15.100586\n",
       "ss1_vdis   14.279689  13.006317\n",
       "ss2        19.971355  24.674704"
      ]
     },
     "execution_count": 5,
     "metadata": {},
     "output_type": "execute_result"
    }
   ],
   "source": [
    "total_means = behavior.groupby(['Condition'])['AbsError'].agg(['mean','std'])\n",
    "subject_means = behavior.groupby(['Condition','Subject'])['AbsError'].mean().reset_index()\n",
    "total_means"
   ]
  },
  {
   "cell_type": "code",
   "execution_count": 6,
   "metadata": {},
   "outputs": [],
   "source": [
    "e_means = subject_means.query('Subject==14').reset_index(drop=True)\n",
    "e_means = e_means['AbsError'].to_numpy()"
   ]
  },
  {
   "cell_type": "code",
   "execution_count": 7,
   "metadata": {},
   "outputs": [
    {
     "data": {
      "text/html": [
       "<div>\n",
       "<style scoped>\n",
       "    .dataframe tbody tr th:only-of-type {\n",
       "        vertical-align: middle;\n",
       "    }\n",
       "\n",
       "    .dataframe tbody tr th {\n",
       "        vertical-align: top;\n",
       "    }\n",
       "\n",
       "    .dataframe thead th {\n",
       "        text-align: right;\n",
       "    }\n",
       "</style>\n",
       "<table border=\"1\" class=\"dataframe\">\n",
       "  <thead>\n",
       "    <tr style=\"text-align: right;\">\n",
       "      <th></th>\n",
       "      <th>Condition</th>\n",
       "      <th>Subject</th>\n",
       "      <th>AbsError</th>\n",
       "    </tr>\n",
       "  </thead>\n",
       "  <tbody>\n",
       "    <tr>\n",
       "      <th>0</th>\n",
       "      <td>ss1_dis</td>\n",
       "      <td>4</td>\n",
       "      <td>16.473913</td>\n",
       "    </tr>\n",
       "    <tr>\n",
       "      <th>1</th>\n",
       "      <td>ss1_dis</td>\n",
       "      <td>6</td>\n",
       "      <td>11.756184</td>\n",
       "    </tr>\n",
       "    <tr>\n",
       "      <th>2</th>\n",
       "      <td>ss1_dis</td>\n",
       "      <td>7</td>\n",
       "      <td>15.727273</td>\n",
       "    </tr>\n",
       "    <tr>\n",
       "      <th>3</th>\n",
       "      <td>ss1_dis</td>\n",
       "      <td>8</td>\n",
       "      <td>12.405405</td>\n",
       "    </tr>\n",
       "    <tr>\n",
       "      <th>4</th>\n",
       "      <td>ss1_dis</td>\n",
       "      <td>9</td>\n",
       "      <td>10.615658</td>\n",
       "    </tr>\n",
       "    <tr>\n",
       "      <th>...</th>\n",
       "      <td>...</td>\n",
       "      <td>...</td>\n",
       "      <td>...</td>\n",
       "    </tr>\n",
       "    <tr>\n",
       "      <th>91</th>\n",
       "      <td>ss2</td>\n",
       "      <td>26</td>\n",
       "      <td>19.534091</td>\n",
       "    </tr>\n",
       "    <tr>\n",
       "      <th>92</th>\n",
       "      <td>ss2</td>\n",
       "      <td>27</td>\n",
       "      <td>15.920705</td>\n",
       "    </tr>\n",
       "    <tr>\n",
       "      <th>93</th>\n",
       "      <td>ss2</td>\n",
       "      <td>28</td>\n",
       "      <td>12.560440</td>\n",
       "    </tr>\n",
       "    <tr>\n",
       "      <th>94</th>\n",
       "      <td>ss2</td>\n",
       "      <td>29</td>\n",
       "      <td>21.992701</td>\n",
       "    </tr>\n",
       "    <tr>\n",
       "      <th>95</th>\n",
       "      <td>ss2</td>\n",
       "      <td>30</td>\n",
       "      <td>16.514056</td>\n",
       "    </tr>\n",
       "  </tbody>\n",
       "</table>\n",
       "<p>96 rows × 3 columns</p>\n",
       "</div>"
      ],
      "text/plain": [
       "   Condition  Subject   AbsError\n",
       "0    ss1_dis        4  16.473913\n",
       "1    ss1_dis        6  11.756184\n",
       "2    ss1_dis        7  15.727273\n",
       "3    ss1_dis        8  12.405405\n",
       "4    ss1_dis        9  10.615658\n",
       "..       ...      ...        ...\n",
       "91       ss2       26  19.534091\n",
       "92       ss2       27  15.920705\n",
       "93       ss2       28  12.560440\n",
       "94       ss2       29  21.992701\n",
       "95       ss2       30  16.514056\n",
       "\n",
       "[96 rows x 3 columns]"
      ]
     },
     "execution_count": 7,
     "metadata": {},
     "output_type": "execute_result"
    }
   ],
   "source": [
    "subject_means"
   ]
  },
  {
   "cell_type": "code",
   "execution_count": 8,
   "metadata": {},
   "outputs": [],
   "source": [
    "def get_error(query):\n",
    "    return subject_means.query(query).groupby('Subject').mean().reset_index()['AbsError']"
   ]
  },
  {
   "cell_type": "code",
   "execution_count": 9,
   "metadata": {},
   "outputs": [
    {
     "data": {
      "text/html": [
       "<div>\n",
       "<style scoped>\n",
       "    .dataframe tbody tr th:only-of-type {\n",
       "        vertical-align: middle;\n",
       "    }\n",
       "\n",
       "    .dataframe tbody tr th {\n",
       "        vertical-align: top;\n",
       "    }\n",
       "\n",
       "    .dataframe thead th {\n",
       "        text-align: right;\n",
       "    }\n",
       "</style>\n",
       "<table border=\"1\" class=\"dataframe\">\n",
       "  <thead>\n",
       "    <tr style=\"text-align: right;\">\n",
       "      <th></th>\n",
       "      <th>T</th>\n",
       "      <th>dof</th>\n",
       "      <th>alternative</th>\n",
       "      <th>p-val</th>\n",
       "      <th>CI95%</th>\n",
       "      <th>cohen-d</th>\n",
       "      <th>BF10</th>\n",
       "      <th>power</th>\n",
       "    </tr>\n",
       "  </thead>\n",
       "  <tbody>\n",
       "    <tr>\n",
       "      <th>T-test</th>\n",
       "      <td>-6.292446</td>\n",
       "      <td>23</td>\n",
       "      <td>two-sided</td>\n",
       "      <td>0.000002</td>\n",
       "      <td>[-7.21, -3.64]</td>\n",
       "      <td>1.253805</td>\n",
       "      <td>9365.925</td>\n",
       "      <td>0.999954</td>\n",
       "    </tr>\n",
       "  </tbody>\n",
       "</table>\n",
       "</div>"
      ],
      "text/plain": [
       "               T  dof alternative     p-val           CI95%   cohen-d  \\\n",
       "T-test -6.292446   23   two-sided  0.000002  [-7.21, -3.64]  1.253805   \n",
       "\n",
       "            BF10     power  \n",
       "T-test  9365.925  0.999954  "
      ]
     },
     "execution_count": 9,
     "metadata": {},
     "output_type": "execute_result"
    }
   ],
   "source": [
    "pingouin.ttest(get_error('Condition!=\"ss2\"'),get_error('Condition==\"ss2\"'),paired=True)"
   ]
  },
  {
   "cell_type": "code",
   "execution_count": 10,
   "metadata": {},
   "outputs": [
    {
     "data": {
      "text/plain": [
       "mean    14.728123\n",
       "std      2.778227\n",
       "Name: AbsError, dtype: float64"
      ]
     },
     "execution_count": 10,
     "metadata": {},
     "output_type": "execute_result"
    }
   ],
   "source": [
    "get_error('Condition!=\"ss2\"').agg(['mean','std'])"
   ]
  },
  {
   "cell_type": "code",
   "execution_count": 11,
   "metadata": {},
   "outputs": [
    {
     "data": {
      "text/html": [
       "<div>\n",
       "<style scoped>\n",
       "    .dataframe tbody tr th:only-of-type {\n",
       "        vertical-align: middle;\n",
       "    }\n",
       "\n",
       "    .dataframe tbody tr th {\n",
       "        vertical-align: top;\n",
       "    }\n",
       "\n",
       "    .dataframe thead th {\n",
       "        text-align: right;\n",
       "    }\n",
       "</style>\n",
       "<table border=\"1\" class=\"dataframe\">\n",
       "  <thead>\n",
       "    <tr style=\"text-align: right;\">\n",
       "      <th></th>\n",
       "      <th>T</th>\n",
       "      <th>dof</th>\n",
       "      <th>alternative</th>\n",
       "      <th>p-val</th>\n",
       "      <th>CI95%</th>\n",
       "      <th>cohen-d</th>\n",
       "      <th>BF10</th>\n",
       "      <th>power</th>\n",
       "    </tr>\n",
       "  </thead>\n",
       "  <tbody>\n",
       "    <tr>\n",
       "      <th>T-test</th>\n",
       "      <td>-0.976855</td>\n",
       "      <td>23</td>\n",
       "      <td>two-sided</td>\n",
       "      <td>0.338804</td>\n",
       "      <td>[-1.69, 0.6]</td>\n",
       "      <td>0.178457</td>\n",
       "      <td>0.329</td>\n",
       "      <td>0.133548</td>\n",
       "    </tr>\n",
       "  </tbody>\n",
       "</table>\n",
       "</div>"
      ],
      "text/plain": [
       "               T  dof alternative     p-val         CI95%   cohen-d   BF10  \\\n",
       "T-test -0.976855   23   two-sided  0.338804  [-1.69, 0.6]  0.178457  0.329   \n",
       "\n",
       "           power  \n",
       "T-test  0.133548  "
      ]
     },
     "execution_count": 11,
     "metadata": {},
     "output_type": "execute_result"
    }
   ],
   "source": [
    "pingouin.ttest(get_error('Condition==\"ss1_vdis\"'),get_error('Condition==\"ss1_dis\"'),paired=True)"
   ]
  },
  {
   "cell_type": "code",
   "execution_count": 12,
   "metadata": {},
   "outputs": [
    {
     "data": {
      "text/html": [
       "<div>\n",
       "<style scoped>\n",
       "    .dataframe tbody tr th:only-of-type {\n",
       "        vertical-align: middle;\n",
       "    }\n",
       "\n",
       "    .dataframe tbody tr th {\n",
       "        vertical-align: top;\n",
       "    }\n",
       "\n",
       "    .dataframe thead th {\n",
       "        text-align: right;\n",
       "    }\n",
       "</style>\n",
       "<table border=\"1\" class=\"dataframe\">\n",
       "  <thead>\n",
       "    <tr style=\"text-align: right;\">\n",
       "      <th></th>\n",
       "      <th>T</th>\n",
       "      <th>dof</th>\n",
       "      <th>alternative</th>\n",
       "      <th>p-val</th>\n",
       "      <th>CI95%</th>\n",
       "      <th>cohen-d</th>\n",
       "      <th>BF10</th>\n",
       "      <th>power</th>\n",
       "    </tr>\n",
       "  </thead>\n",
       "  <tbody>\n",
       "    <tr>\n",
       "      <th>T-test</th>\n",
       "      <td>-1.4623</td>\n",
       "      <td>23</td>\n",
       "      <td>two-sided</td>\n",
       "      <td>0.15719</td>\n",
       "      <td>[-1.49, 0.26]</td>\n",
       "      <td>0.224762</td>\n",
       "      <td>0.548</td>\n",
       "      <td>0.18417</td>\n",
       "    </tr>\n",
       "  </tbody>\n",
       "</table>\n",
       "</div>"
      ],
      "text/plain": [
       "             T  dof alternative    p-val          CI95%   cohen-d   BF10  \\\n",
       "T-test -1.4623   23   two-sided  0.15719  [-1.49, 0.26]  0.224762  0.548   \n",
       "\n",
       "          power  \n",
       "T-test  0.18417  "
      ]
     },
     "execution_count": 12,
     "metadata": {},
     "output_type": "execute_result"
    }
   ],
   "source": [
    "pingouin.ttest(get_error('Condition==\"ss1_vdis\"'),get_error('Condition==\"ss1_sim\"'),paired=True)"
   ]
  },
  {
   "cell_type": "code",
   "execution_count": 13,
   "metadata": {},
   "outputs": [
    {
     "data": {
      "text/html": [
       "<div>\n",
       "<style scoped>\n",
       "    .dataframe tbody tr th:only-of-type {\n",
       "        vertical-align: middle;\n",
       "    }\n",
       "\n",
       "    .dataframe tbody tr th {\n",
       "        vertical-align: top;\n",
       "    }\n",
       "\n",
       "    .dataframe thead th {\n",
       "        text-align: right;\n",
       "    }\n",
       "</style>\n",
       "<table border=\"1\" class=\"dataframe\">\n",
       "  <thead>\n",
       "    <tr style=\"text-align: right;\">\n",
       "      <th></th>\n",
       "      <th>T</th>\n",
       "      <th>dof</th>\n",
       "      <th>alternative</th>\n",
       "      <th>p-val</th>\n",
       "      <th>CI95%</th>\n",
       "      <th>cohen-d</th>\n",
       "      <th>BF10</th>\n",
       "      <th>power</th>\n",
       "    </tr>\n",
       "  </thead>\n",
       "  <tbody>\n",
       "    <tr>\n",
       "      <th>T-test</th>\n",
       "      <td>-0.270577</td>\n",
       "      <td>23</td>\n",
       "      <td>two-sided</td>\n",
       "      <td>0.78913</td>\n",
       "      <td>[-0.65, 0.5]</td>\n",
       "      <td>0.022816</td>\n",
       "      <td>0.222</td>\n",
       "      <td>0.051317</td>\n",
       "    </tr>\n",
       "  </tbody>\n",
       "</table>\n",
       "</div>"
      ],
      "text/plain": [
       "               T  dof alternative    p-val         CI95%   cohen-d   BF10  \\\n",
       "T-test -0.270577   23   two-sided  0.78913  [-0.65, 0.5]  0.022816  0.222   \n",
       "\n",
       "           power  \n",
       "T-test  0.051317  "
      ]
     },
     "execution_count": 13,
     "metadata": {},
     "output_type": "execute_result"
    }
   ],
   "source": [
    "pingouin.ttest(get_error('Condition==\"ss1_dis\"'),get_error('Condition==\"ss1_sim\"'),paired=True)"
   ]
  },
  {
   "cell_type": "code",
   "execution_count": 29,
   "metadata": {},
   "outputs": [],
   "source": [
    "total_mean_vals = total_means.reset_index()['mean']"
   ]
  },
  {
   "cell_type": "code",
   "execution_count": 33,
   "metadata": {},
   "outputs": [
    {
     "data": {
      "image/png": "[encoded data removed]",
      "text/plain": [
       "<Figure size 800x450 with 1 Axes>"
      ]
     },
     "metadata": {},
     "output_type": "display_data"
    }
   ],
   "source": [
    "fig, ax = plt.subplots(1, 1, sharey=True, figsize=(8,4.5))\n",
    "my_pal = {\"royalblue\", \"firebrick\", \"forestgreen\", \"orange\"}\n",
    "\n",
    "# experiment 1\n",
    "sns.violinplot(\n",
    "    ax = ax, \n",
    "    x='Condition',y='AbsError', \n",
    "    order = ['ss1_vdis','ss1_dis','ss1_sim','ss2'],\n",
    "    data=subject_means,\n",
    "    dodge=True,inner='points',cut=.5,palette = my_pal,)\n",
    "\n",
    "ax = plt.gca()\n",
    "# plot means\n",
    "ax.scatter(\n",
    "    x = [0,1,2,3],\n",
    "    y = [total_mean_vals[2],total_mean_vals[1],total_mean_vals[0],total_mean_vals[3]],\n",
    "    c = 'white', edgecolors='k',s=75)\n",
    "\n",
    "# asethetics\n",
    "ax.spines['right'].set_visible(False)\n",
    "ax.spines['top'].set_visible(False)\n",
    "plt.setp(ax.get_xticklabels(), fontsize=14)\n",
    "plt.setp(ax.get_yticklabels(), fontsize=14)\n",
    "ax.set_xlabel('Condition',fontsize=14)\n",
    "ax.set_ylabel('Absolute error',fontsize=14)\n",
    "ax.set_xticklabels(['1 target w/\\ngray dist.','1 target w/\\ndissimilar dist.','1 targ. w/\\nsimilar dist.','2 targets'])\n",
    "# plt.ylim([.46,1.04])\n",
    "plt.savefig('output/figures/cd_accuracy.png',dpi=500,bbox_inches='tight')\n",
    "plt.savefig('output/figures/cd_accuracy.pdf',dpi=500,bbox_inches='tight')\n",
    "\n",
    "plt.show()"
   ]
  }
 ],
 "metadata": {
  "kernelspec": {
   "display_name": "archery",
   "language": "python",
   "name": "python3"
  },
  "language_info": {
   "codemirror_mode": {
    "name": "ipython",
    "version": 3
   },
   "file_extension": ".py",
   "mimetype": "text/x-python",
   "name": "python",
   "nbconvert_exporter": "python",
   "pygments_lexer": "ipython3",
   "version": "3.8.10"
  },
  "varInspector": {
   "cols": {
    "lenName": 16,
    "lenType": 16,
    "lenVar": 40
   },
   "kernels_config": {
    "python": {
     "delete_cmd_postfix": "",
     "delete_cmd_prefix": "del ",
     "library": "var_list.py",
     "varRefreshCmd": "print(var_dic_list())"
    },
    "r": {
     "delete_cmd_postfix": ") ",
     "delete_cmd_prefix": "rm(",
     "library": "var_list.r",
     "varRefreshCmd": "cat(var_dic_list()) "
    }
   },
   "types_to_exclude": [
    "module",
    "function",
    "builtin_function_or_method",
    "instance",
    "_Feature"
   ],
   "window_display": false
  },
  "vscode": {
   "interpreter": {
    "hash": "0e28d7a6dc7611bfdd14031ec946c3c682c571ce4ba623eb550681919e64ea96"
   }
  }
 },
 "nbformat": 4,
 "nbformat_minor": 2
}
