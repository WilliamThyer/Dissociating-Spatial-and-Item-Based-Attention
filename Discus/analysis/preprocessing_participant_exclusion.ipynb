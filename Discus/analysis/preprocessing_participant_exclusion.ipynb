{
 "cells": [
  {
   "cell_type": "code",
   "execution_count": 1,
   "id": "36ca012c-4f06-4b11-8293-020ac7172c86",
   "metadata": {},
   "outputs": [],
   "source": [
    "import sys\n",
    "sys.path.append('../..')\n",
    "\n",
    "import numpy as np\n",
    "import pandas as pd\n",
    "import eeg_decoder as eeg_decoder\n",
    "\n",
    "%load_ext autoreload\n",
    "%autoreload 2"
   ]
  },
  {
   "cell_type": "code",
   "execution_count": 2,
   "id": "b32a8db1-5a14-4bf6-9913-f4442ee33f56",
   "metadata": {},
   "outputs": [],
   "source": [
    "experiment_name = 'd01'\n",
    "data_dir = f'./data/{experiment_name}'\n",
    "exp = eeg_decoder.Experiment(experiment_name,data_dir,dev=False,info_from_file=True)\n",
    "exp.behavior_files = sorted(list(exp.data_dir.glob('*behavior.csv')))"
   ]
  },
  {
   "cell_type": "code",
   "execution_count": 3,
   "id": "7a798753",
   "metadata": {},
   "outputs": [
    {
     "data": {
      "text/plain": [
       "[WindowsPath('data/d01/d01_04_xdata.mat'),\n",
       " WindowsPath('data/d01/d01_06_xdata.mat'),\n",
       " WindowsPath('data/d01/d01_07_xdata.mat'),\n",
       " WindowsPath('data/d01/d01_08_xdata.mat'),\n",
       " WindowsPath('data/d01/d01_09_xdata.mat'),\n",
       " WindowsPath('data/d01/d01_10_xdata.mat'),\n",
       " WindowsPath('data/d01/d01_11_xdata.mat'),\n",
       " WindowsPath('data/d01/d01_12_xdata.mat'),\n",
       " WindowsPath('data/d01/d01_13_xdata.mat'),\n",
       " WindowsPath('data/d01/d01_14_xdata.mat'),\n",
       " WindowsPath('data/d01/d01_16_xdata.mat'),\n",
       " WindowsPath('data/d01/d01_17_xdata.mat'),\n",
       " WindowsPath('data/d01/d01_19_xdata.mat'),\n",
       " WindowsPath('data/d01/d01_20_xdata.mat'),\n",
       " WindowsPath('data/d01/d01_21_xdata.mat'),\n",
       " WindowsPath('data/d01/d01_22_xdata.mat'),\n",
       " WindowsPath('data/d01/d01_23_xdata.mat'),\n",
       " WindowsPath('data/d01/d01_24_xdata.mat'),\n",
       " WindowsPath('data/d01/d01_25_xdata.mat'),\n",
       " WindowsPath('data/d01/d01_26_xdata.mat'),\n",
       " WindowsPath('data/d01/d01_27_xdata.mat'),\n",
       " WindowsPath('data/d01/d01_28_xdata.mat'),\n",
       " WindowsPath('data/d01/d01_29_xdata.mat'),\n",
       " WindowsPath('data/d01/d01_30_xdata.mat')]"
      ]
     },
     "execution_count": 3,
     "metadata": {},
     "output_type": "execute_result"
    }
   ],
   "source": [
    "exp.xdata_files"
   ]
  },
  {
   "cell_type": "code",
   "execution_count": 4,
   "id": "671f92bd-6a99-4a18-bf92-9eb366e0becd",
   "metadata": {
    "collapsed": true,
    "jupyter": {
     "outputs_hidden": true
    },
    "tags": []
   },
   "outputs": [
    {
     "name": "stdout",
     "output_type": "stream",
     "text": [
      "data\\d01\\d01_04_xdata.mat\n",
      "[239 230 241]\n",
      "data\\d01\\d01_06_xdata.mat\n",
      "[283 283 261]\n",
      "data\\d01\\d01_07_xdata.mat\n",
      "[191 187 181]\n",
      "data\\d01\\d01_08_xdata.mat\n",
      "[224 222 206]\n",
      "data\\d01\\d01_09_xdata.mat\n",
      "[275 281 271]\n",
      "data\\d01\\d01_10_xdata.mat\n",
      "[284 284 288]\n",
      "data\\d01\\d01_11_xdata.mat\n",
      "[248 276 260]\n",
      "data\\d01\\d01_12_xdata.mat\n",
      "[251 255 241]\n",
      "data\\d01\\d01_13_xdata.mat\n",
      "[250 255 245]\n",
      "data\\d01\\d01_14_xdata.mat\n",
      "[272 268 273]\n",
      "data\\d01\\d01_16_xdata.mat\n",
      "[267 270 278]\n",
      "data\\d01\\d01_17_xdata.mat\n",
      "[267 259 253]\n",
      "data\\d01\\d01_19_xdata.mat\n",
      "[263 276 275]\n",
      "data\\d01\\d01_20_xdata.mat\n",
      "[230 223 217]\n",
      "data\\d01\\d01_21_xdata.mat\n",
      "[236 239 228]\n",
      "data\\d01\\d01_22_xdata.mat\n",
      "[239 232 235]\n",
      "data\\d01\\d01_23_xdata.mat\n",
      "[242 247 246]\n",
      "data\\d01\\d01_24_xdata.mat\n",
      "[282 278 268]\n",
      "data\\d01\\d01_25_xdata.mat\n",
      "[186 205 194]\n",
      "data\\d01\\d01_26_xdata.mat\n",
      "[261 263 252]\n",
      "data\\d01\\d01_27_xdata.mat\n",
      "[242 227 209]\n",
      "data\\d01\\d01_28_xdata.mat\n",
      "[264 262 269]\n",
      "data\\d01\\d01_29_xdata.mat\n",
      "[273 270 258]\n",
      "data\\d01\\d01_30_xdata.mat\n",
      "[277 269 254]\n"
     ]
    }
   ],
   "source": [
    "\n",
    "not_enough_data = []\n",
    "behavior_no_match = []\n",
    "\n",
    "for isub in range(exp.nsub):\n",
    "    print(exp.xdata_files[isub])\n",
    "    xdata,ydata = exp.load_eeg(isub)\n",
    "\n",
    "    # Check enough data\n",
    "    _,cond_counts = np.unique(ydata,return_counts=True)\n",
    "    cond_counts = np.delete(cond_counts,3)\n",
    "    print(cond_counts)\n",
    "    check_enough_data = np.all(cond_counts>175)\n",
    "\n",
    "    if check_enough_data == False:\n",
    "        not_enough_data.append(isub)\n",
    "\n",
    "    # Check data files align\n",
    "    noArt_idx = exp.load_artifact_idx(isub)\n",
    "    assert xdata.shape[0]==noArt_idx.sum()\n",
    "\n",
    "    behavior = pd.read_csv(exp.behavior_files[isub])\n",
    "    behavior = behavior[behavior.Block.notnull()] # cut out original post-task stuff\n",
    "    \n",
    "    if len(behavior)!=noArt_idx.shape[0]:\n",
    "        behavior_no_match.append(isub)\n"
   ]
  },
  {
   "cell_type": "code",
   "execution_count": 5,
   "id": "ab8cbf1e",
   "metadata": {},
   "outputs": [
    {
     "name": "stdout",
     "output_type": "stream",
     "text": [
      "[]\n",
      "[]\n"
     ]
    }
   ],
   "source": [
    "print(np.array(exp.xdata_files)[not_enough_data])\n",
    "print(behavior_no_match)"
   ]
  }
 ],
 "metadata": {
  "kernelspec": {
   "display_name": "Python 3.8.10 ('archery')",
   "language": "python",
   "name": "python3"
  },
  "language_info": {
   "codemirror_mode": {
    "name": "ipython",
    "version": 3
   },
   "file_extension": ".py",
   "mimetype": "text/x-python",
   "name": "python",
   "nbconvert_exporter": "python",
   "pygments_lexer": "ipython3",
   "version": "3.8.10"
  },
  "vscode": {
   "interpreter": {
    "hash": "0e28d7a6dc7611bfdd14031ec946c3c682c571ce4ba623eb550681919e64ea96"
   }
  }
 },
 "nbformat": 4,
 "nbformat_minor": 5
}
